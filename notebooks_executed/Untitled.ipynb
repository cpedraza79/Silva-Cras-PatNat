{
 "cells": [
  {
   "cell_type": "code",
   "execution_count": 1,
   "metadata": {},
   "outputs": [],
   "source": [
    "x=1"
   ]
  },
  {
   "cell_type": "code",
   "execution_count": 2,
   "metadata": {},
   "outputs": [
    {
     "name": "stdout",
     "output_type": "stream",
     "text": [
      "1\n"
     ]
    }
   ],
   "source": [
    "print(x)"
   ]
  },
  {
   "cell_type": "code",
   "execution_count": 3,
   "metadata": {},
   "outputs": [],
   "source": [
    "y=2"
   ]
  },
  {
   "cell_type": "code",
   "execution_count": 4,
   "metadata": {},
   "outputs": [
    {
     "name": "stdout",
     "output_type": "stream",
     "text": [
<<<<<<< HEAD
      "2\n"
=======
      "3 Pedraza esta loco\n"
>>>>>>> change
     ]
    }
   ],
   "source": [
<<<<<<< HEAD
    "print(y)"
=======
    "print (x+y,\"Pedraza esta loco\")"
>>>>>>> change
   ]
  },
  {
   "cell_type": "code",
   "execution_count": 5,
   "metadata": {},
   "outputs": [],
   "source": [
    "datadirectory='C:/Users/crist/Documents/Python Scripts/1_servir_training-master/Prueba_PatNat/18NWG_20m_D_069'\n",
    "datefile='18NWG_20m_D_069_vv_mtfil.dates'\n",
    "imagefile='18NWG_20m_D_069_vv_mtfil.vrt'\n",
    "mascara='BNB_2017_18NWG.tif'\n",
    "subset=None"
   ]
  },
  {
   "cell_type": "code",
>>>>>>> change
   "execution_count": null,
   "metadata": {},
   "outputs": [],
   "source": []
  }
 ],
 "metadata": {
  "kernelspec": {
   "display_name": "Python 3",
   "language": "python",
   "name": "python3"
  },
  "language_info": {
   "codemirror_mode": {
    "name": "ipython",
    "version": 3
   },
   "file_extension": ".py",
   "mimetype": "text/x-python",
   "name": "python",
   "nbconvert_exporter": "python",
   "pygments_lexer": "ipython3",
   "version": "3.7.3"
  }
 },
 "nbformat": 4,
 "nbformat_minor": 2
}
