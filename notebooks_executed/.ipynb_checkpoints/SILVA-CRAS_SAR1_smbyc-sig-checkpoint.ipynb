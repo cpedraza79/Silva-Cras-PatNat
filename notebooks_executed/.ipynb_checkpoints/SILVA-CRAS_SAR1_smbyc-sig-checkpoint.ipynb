{
 "cells": [
  {
   "cell_type": "markdown",
   "metadata": {},
   "source": [
    "# SILVA-CRAS\n",
    "\n",
    "# Capitulo 1 - Articulación SMByC y especialista SIG PatNat\n",
    "# Modulo Detección de cambios por deforestación.\n",
    "\n",
    "# Proyecto: Sistema para la toma de decisiones en el marco de los acuerdos de conservación de bosques a nivel predial en el piedemonte Caquetá, Programa Conservación y Gobernanza-Patrimonio Natural \n",
    "\n",
    "\n",
    "Josef Kellndorfer, Ph.D., President and Senior Scientist, Earth Big Data, LLC\n",
    "\n",
    "Carlos Pedraza, Ms.C., Spatial analyst and Monitoring Expert, iScioLab and Earth Big Data, LLC\n",
    "\n",
    "Cristhian Fabian Forero, Remote Sensing Expert, iScioLab.\n",
    "\n",
    "Fecha revisión: Pendiente\n",
    "\n",
    "Este capitulo de análisis de imágenes SAR para aplicaciones forestales esta enfocado al monitoreo de la detección de cambio por deforestación como un notebook interactivo dirigido al perfil de usuario de especialista SIG del programa C&G y a la estrategía de articulación con instituciones del gobierno, como lo es el Sistema de Minitoreo de Bosques y Carbono de Colombia (SMByC). El formato difgital (*jupyter notebook*) de este capitulo puede ser ejecutado desde cualquier explorador para la exploración de los datos historicos y nuevos que hacen parte del sistema de toma de decisiones en el marco de acuerdos de conservación a nivel predial del programa Conservación y Gobernanza de Patrimonio Natural. El notebook esta construido a partir de textos, documentación, código de ejecución de Python y formato de reducción de marcado, incluyendo ecuaciones matemáticas de estilo látex. Con este enfoque, el usuario puede ampliar, cambiar y compartir fácilmente todo el trabajo con nuevos conjuntos de datos en nuevas regiones o nuevos pasos de series temporales disponibles. "
   ]
  },
  {
   "cell_type": "markdown",
   "metadata": {},
   "source": [
    "## Instalación de Software y Datos\n",
    "\n",
    "Por favor referirse a los documentos de **INSTALACIÓN** y **DATA-HOW TO**.\n",
    "\n",
    "Los datos de series de tiempo fueron pre-procesados con ***S**oftware for **E**arth Big Data **P**rocessing, **P**rediction Modeling and **O**rganization* (SEPPO) EARTH BIG DATA utilizando rutinas de procesamiento basadas en la nube a través de Amazon Web Services (AWS). SEPPO permite realizar el procesamiento completo de grandes volumenes de datos SAR (y otros productos de sensores remotos) para construir datos de series de tiempo eficeintemente. La gía de formatos de datos **EBD_README** explica la estructura de los datos y las convenciones de nomnres de los datos producidos por EARTH BIG DATA, LLC.\n"
   ]
  },
  {
   "cell_type": "markdown",
   "metadata": {},
   "source": [
    "# Notas de como trabajar con este Notebook\n",
    "\n",
    "1. Después de iniciar el servidor Notebooks y abrir un Notebook, navega al menú **Kernel** y elige ebd:\n",
    "\n",
    "    > Kernel > Change Kernel > Python \\[conda env:ebd\\]\n",
    "\n",
    "2. Para ejecutar el código en una celda, posicione su cursor parpadeante dentro de una celda y seleccione el botón *Run* de la barra de menú del notebook, o use la siguiente combinación de teclas:\n",
    "    - CTRL+Enter para ejecutar la celda\n",
    "    - ALT+Enter para ejecutar una celda e insertar una nueva celda debajo\n",
    "\n",
    "3. Para comentar las líneas dentro de las celdas del código use como primer carácter *#*. Puede marcar varias líneas y usar una combinación de teclas para comentar el bloque con:\n",
    "    - Windows: CTRL+/\n",
    "    - MacOS:  CMD+/\n",
    "\n",
    "# Importando paquetes de Python\n",
    "El primer paso en el enfoque de análisis de series de tiempo después de obtener las conjuntos de datos preprocesados es la importación de los paquetes de Python necesarios.\n",
    "Véanse los comentarios que figuran a continuación sobre los paquetes necesarios y sus funciones. Obsérvese que todos estos paquetes deberían haberse instalado cuando se creó el entorno de la Anaconda Python. "
   ]
  },
  {
   "cell_type": "code",
   "execution_count": 1,
   "metadata": {
    "hide_input": false
   },
   "outputs": [],
   "source": [
    "import pandas as pd\n",
    "import gdal\n",
    "import numpy as np\n",
    "import time,os, glob\n",
    "\n",
    "# Setup plotting inside the notebook\n",
    "%matplotlib inline\n",
    "import matplotlib.pylab as plt"
   ]
  },
  {
   "cell_type": "markdown",
   "metadata": {},
   "source": [
    "# Definiendo directorio del proyecto y nombre de archivos\n",
    "Revisa [EBD Guía de datos](https://github.com/EarthBigData/openSAR/blob/master/documentation/EBD_DataGuide.md) para una explicación de las convenciones de los nombres de archivos utilizados para los datos de imágenes.\n",
    "\n",
    " \n",
    "#### Como especificar los nombres de directorios:\n",
    "\n",
    "**Linux**: /path/to/file\n",
    "\n",
    "**Windows**: d:/path/to/file       \n",
    "    d: es la letra del drive   # IMPORTANTE: Siempre utiliza '/' en vez de '\\' en Windows\n",
    "\n",
    "NOTA: directorios y nombres de archivos estan especificados en python como cadenas encerradas por comillas simples o dobles:'string' \"string\""
   ]
  },
  {
   "cell_type": "markdown",
   "metadata": {},
   "source": [
    "## Caquetá MGRS Tile 18NWF"
   ]
  },
  {
   "cell_type": "code",
   "execution_count": 2,
   "metadata": {},
   "outputs": [],
   "source": [
    "datadirectory='/Users/amenaza/github/Silva-Cras-PatNat/Data/Colombia/S32618X557000Y64000sS1_EBD'\n",
    "datefile='S32618X557000Y64000sS1_D_vv_0069_mtfil.dates'\n",
    "imagefile='S32618X557000Y64000sS1_D_vv_0069_mtfil.vrt'\n",
    "imagefile_cross='S32618X557000Y64000sS1_D_vh_0069_mtfil.vrt'"
   ]
  },
  {
   "cell_type": "markdown",
   "metadata": {},
   "source": [
    "## Cambiar al directorio de datos"
   ]
  },
  {
   "cell_type": "code",
   "execution_count": 3,
   "metadata": {},
   "outputs": [
    {
     "ename": "FileNotFoundError",
     "evalue": "[Errno 2] No such file or directory: '/Users/amenaza/github/Silva-Cras-PatNat/Data/Colombia/S32618X557000Y64000sS1_EBD'",
     "output_type": "error",
     "traceback": [
      "\u001b[0;31m---------------------------------------------------------------------------\u001b[0m",
      "\u001b[0;31mFileNotFoundError\u001b[0m                         Traceback (most recent call last)",
      "\u001b[0;32m<ipython-input-3-ba214ebaedfa>\u001b[0m in \u001b[0;36m<module>\u001b[0;34m\u001b[0m\n\u001b[0;32m----> 1\u001b[0;31m \u001b[0mos\u001b[0m\u001b[0;34m.\u001b[0m\u001b[0mchdir\u001b[0m\u001b[0;34m(\u001b[0m\u001b[0mdatadirectory\u001b[0m\u001b[0;34m)\u001b[0m\u001b[0;34m\u001b[0m\u001b[0;34m\u001b[0m\u001b[0m\n\u001b[0m",
      "\u001b[0;31mFileNotFoundError\u001b[0m: [Errno 2] No such file or directory: '/Users/amenaza/github/Silva-Cras-PatNat/Data/Colombia/S32618X557000Y64000sS1_EBD'"
     ]
    }
   ],
   "source": [
    "os.chdir(datadirectory)"
   ]
  },
  {
   "cell_type": "code",
   "execution_count": null,
   "metadata": {
    "hide_input": false
   },
   "outputs": [],
   "source": [
    "os.getcwd()  # Muestra el directorio de datos"
   ]
  },
  {
   "cell_type": "code",
   "execution_count": null,
   "metadata": {
    "hide_input": false
   },
   "outputs": [],
   "source": [
    "glob.glob(\"*.vrt\")   # Lista los datos disponibles en el directorio de datos"
   ]
  },
  {
   "cell_type": "markdown",
   "metadata": {},
   "source": [
    "# Fechas de adquisición\n",
    "## Lee de los datos las fechas de las series de tiempo y crea un indice de fechas Panda"
   ]
  },
  {
   "cell_type": "code",
   "execution_count": null,
   "metadata": {},
   "outputs": [],
   "source": [
    "# Lee datos de las fechas de las series de tiempo\n",
    "# y crea un índice de fechas en Panda\n",
    "dates=open(datefile).readlines() \n",
    "tindex=pd.DatetimeIndex(dates)"
   ]
  },
  {
   "cell_type": "code",
   "execution_count": null,
   "metadata": {
    "hide_input": false
   },
   "outputs": [],
   "source": [
    "# A partir del índice se construye y despliega una lookup table para \n",
    "# para los números asociados a las bandas y fechas \n",
    "j=1\n",
    "print('Bands and dates for',imagefile)\n",
    "for i in tindex:\n",
    "    print(\"{:4d} {}\".format(j, i.date()),end=' ')\n",
    "    j+=1\n",
    "    if j%5==1: print()"
   ]
  },
  {
   "cell_type": "markdown",
   "metadata": {},
   "source": [
    "# Datos de imagen"
   ]
  },
  {
   "cell_type": "markdown",
   "metadata": {},
   "source": [
    "Para abrir **open** un archivo de imagen y hacerlo legible se aplica la función gdal.Open(). Esto transforma el tipo de imagen para que pueda ser usada en futuras funciones con este archivo:"
   ]
  },
  {
   "cell_type": "code",
   "execution_count": null,
   "metadata": {},
   "outputs": [],
   "source": [
    "img=gdal.Open(imagefile)"
   ]
  },
  {
   "cell_type": "markdown",
   "metadata": {},
   "source": [
    "## Acá vamooooooooosssssssssss\n",
    "To explore the image, e.g. number of bands, pixels, lines you can use several functions associated with the openend image object, e.g.:"
   ]
  },
  {
   "cell_type": "code",
   "execution_count": null,
   "metadata": {},
   "outputs": [],
   "source": [
    "print(img.RasterCount) # Number of Bands\n",
    "print(img.RasterXSize) # Number of Pixels\n",
    "print(img.RasterYSize) # Number of Lines\n",
    "print (gdal.Info(imagefile)) # Image parametres"
   ]
  },
  {
   "cell_type": "markdown",
   "metadata": {},
   "source": [
    "## Leyendo loda datos de una banda de la imágen\n",
    "To access any band in the image, use the img.GetRasterBand(x) function. E.g. to access the first band x=1, the last band: x=60. "
   ]
  },
  {
   "cell_type": "code",
   "execution_count": null,
   "metadata": {},
   "outputs": [],
   "source": [
    "band=img.GetRasterBand(1) # gdal understan the 1st band as 1, an Python as 0"
   ]
  },
  {
   "cell_type": "markdown",
   "metadata": {},
   "source": [
    "Once a band is seleted, several functions associated with the band are available for further processing, e.g.\n",
    "\n",
    "* band.ReadAsArray(xoff=0,yoff=0,xsize=None,ysize=None)\n",
    "\n",
    "So, to read the entire raster layer for the band:"
   ]
  },
  {
   "cell_type": "code",
   "execution_count": null,
   "metadata": {},
   "outputs": [],
   "source": [
    "raster=band.ReadAsArray()\n",
    "raster[raster==0]=1    # Lazy dealing with no data values here"
   ]
  },
  {
   "cell_type": "markdown",
   "metadata": {},
   "source": [
    "## Subsets\n",
    "Because of the potentially large data volume when dealing with time series data stacks, it may be required to read only a subset of data. \n",
    "\n",
    "With the gdal .ReadAsArray() function, subsets can be requested with offsets and size:\n",
    "\n",
    "**img.ReadAsArray(xoff=0, yoff=0, xsize=None, ysize=None)**\n",
    "\n",
    "xoff,yoff are the offsets from the upper left corner in pixel/line coordinates. \n",
    "\n",
    "xsize,ysize specify the size of the subset in x-direction (left to right) and y-direction (top to bottom).\n",
    "\n",
    "E.g., to read only a **subset** of 5x5 pixels with an offset of 5 pixels and 20 lines:"
   ]
  },
  {
   "cell_type": "code",
   "execution_count": null,
   "metadata": {},
   "outputs": [],
   "source": [
    "raster_sub=band.ReadAsArray(5,20,5,5)\n",
    "raster_sub[raster_sub==0]=1"
   ]
  },
  {
   "cell_type": "markdown",
   "metadata": {},
   "source": [
    "The result is a two dimensional numpy array with the datatpye the data were stored in. We can inspect these data in python by simply typing the array name on the commandline:"
   ]
  },
  {
   "cell_type": "code",
   "execution_count": null,
   "metadata": {},
   "outputs": [],
   "source": [
    "raster_sub"
   ]
  },
  {
   "cell_type": "markdown",
   "metadata": {},
   "source": [
    "## Displaying Bands in the Time Series of SAR Data\n",
    "From the lookup table we know that bands 20 and 27 in the HKH Center dataset are from late February and late August. Let's take look at these images.\n",
    "\n",
    "**HINT: Because python is an object oriented scripting language, we can often combine several steps (or function calls) into one command. See the trick below to access a raster band and read the data in one step.**"
   ]
  },
  {
   "cell_type": "code",
   "execution_count": null,
   "metadata": {},
   "outputs": [],
   "source": [
    "raster_1 = img.GetRasterBand(20).ReadAsArray()\n",
    "raster_2 = img.GetRasterBand(27).ReadAsArray()"
   ]
  },
  {
   "cell_type": "markdown",
   "metadata": {},
   "source": [
    "## Plotting in Python to Visualize the Image Bands\n",
    "Matplotlib's plotting functions allow for powerful options to display imagery. We are following some standard approaches for setting up figures.\n",
    "First we are looking at a **raster band** and it's associated **historgram**."
   ]
  },
  {
   "cell_type": "code",
   "execution_count": null,
   "metadata": {},
   "outputs": [],
   "source": [
    "fig = plt.figure(figsize=(16,8)) # Initialize figure with a size\n",
    "ax1 = fig.add_subplot(121)  # 121 determines: 1 row, 2 plots, first plot\n",
    "ax2 = fig.add_subplot(122)  # 122 determines: 1 row, 2 plots, second plot\n",
    "\n",
    "# First plot: Image\n",
    "bandnbr=20\n",
    "ax1.imshow(raster_1,cmap='gray',vmin=2000,vmax=10000,interpolation='bilinear')\n",
    "ax1.set_title('Image Band {} {}'.format(bandnbr,\n",
    "                                    tindex[bandnbr-1].date()))\n",
    "\n",
    "# Second plot: Historgram\n",
    "# IMPORTANT: To get a histogram, we first need to *flatten* \n",
    "# the two-dimensional image into a one-dimensional vector.\n",
    "h = ax2.hist(raster_1.flatten(),bins=100,range=(0,10000))\n",
    "ax2.xaxis.set_label_text('Amplitude (Uncalibrated DN Values)')\n",
    "_=ax2.set_title('Histogram Band {} {}'.format(bandnbr,\n",
    "                                    tindex[bandnbr-1].date()))"
   ]
  },
  {
   "cell_type": "markdown",
   "metadata": {},
   "source": [
    "### Writing a plotting function for the task\n",
    "Below, the plotting commands used above are **def**ined in a function named *showImage*. Several parameters can be passed to the function, some with default values listed at the end:\n",
    "\n",
    "- raster = a numpy two dimensional array \n",
    "- tindex = a panda index array for dates\n",
    "- bandnbr = the band number the corresponds to the raster \n",
    "- vmin = minimim value to display \n",
    "- vmax = maximum value to display\n",
    "\n",
    "Note: By default, data will be linearly stretched between vmin and vmax. We also provide a interpolation option for the plotting routine that accepts values like 'nearest', 'bilinear', 'bicubic'. We set this parameter by default to 'bilinear'."
   ]
  },
  {
   "cell_type": "code",
   "execution_count": null,
   "metadata": {},
   "outputs": [],
   "source": [
    "def showImage(raster,tindex,bandnbr,vmin=None,vmax=None,interpolation='bilinear'):\n",
    "    fig = plt.figure(figsize=(16,8))\n",
    "    ax1 = fig.add_subplot(121)\n",
    "    ax2 = fig.add_subplot(122)\n",
    "\n",
    "    ax1.imshow(raster,cmap='gray',vmin=vmin,vmax=vmax,interpolation='bilinear')\n",
    "    ax1.set_title('Image Band {} {}'.format(bandnbr,\n",
    "                                tindex[bandnbr-1].date()))\n",
    "    vmin=np.percentile(raster,2) if vmin==None else vmin\n",
    "    vmax=np.percentile(raster,98) if vmax==None else vmax\n",
    "    ax1.xaxis.set_label_text(\n",
    "        'Linear stretch Min={} Max={}'.format(vmin,vmax))\n",
    "    \n",
    "    \n",
    "    h = ax2.hist(raster.flatten(),bins=100,range=(0,11000))\n",
    "    ax2.xaxis.set_label_text('Amplitude (Uncalibrated DN Values)')\n",
    "    ax2.set_title('Histogram Band {} {}'.format(bandnbr,\n",
    "                                tindex[bandnbr-1].date()))"
   ]
  },
  {
   "cell_type": "markdown",
   "metadata": {},
   "source": [
    "## Time Series Data Stacks\n",
    "\n",
    "Just as we can use the ReadAsArray() function on a band, we can actually use it on the entire image data stack. To read an entire stack, i.e. all bands use the function on the image data handle:\n",
    "\n",
    "> img.ReadAsArray()\n",
    "\n",
    "CAUTION: Since this could potentially result in large memory need, it is wise to do some preliminary calcuations as to how large of a data set would be read in. for that we can do the following calculation:\n",
    "\n",
    "${Data \n",
    "Volume [GB]} = \\frac{ N_{bands} \\times N_{pixels} \\times N_{lines} \\times {Bytes_{pixel}}}{{1024}^3}$\n",
    "    \n",
    "For SAR data we typically use dataypes of \n",
    "\n",
    "* Float 32 bit (4 bytes per pixel) for power and dB data, \n",
    "* Unsigned Integer 16 bit (2 bytes per pixel) linearly scaled amplitudes, and\n",
    "* Unsigned Byte (1 byte per pixel) for dB-scaled to 8 bit data \n",
    "\n",
    "The following table gives an overview of typically used data types for SAR data analysis in python:\n",
    "\n",
    "| Data Type  \t|   Numpy Name\t|   GDAL Name\t|   GDAL Code\t|  Bytes per pixel |   \t|\n",
    "|:-:\t|---\t|---\t|---\t|---\t|---\t|\n",
    "|  Float 32 bit \t|  np.float32 \t|   gdal.GDT_Float32\t|   6\t|   4\t|\n",
    "|  Unsigned Integer 16 bit\t|  np.uint16\t|   gdal.GDT_UInt16\t    |   2 \t|   2\t|\n",
    "|  Unsigned Integer 8 bit \t|  np.uint8 \t|   gdal.GDT_Byte   \t|   1\t|   1\t|\n",
    "\n",
    "Compare the result of the computation with the available RAM on the computer running the notebook."
   ]
  },
  {
   "cell_type": "markdown",
   "metadata": {},
   "source": [
    "### Reading the SAR Time Series Subset\n",
    "Let's read a image subset (offset 2000, 2000 /  size 1024, 1024) of the entire time series data stack. The data are representatios of linearly scaled amplitudes scaled to unsigned 16 bit interger\n",
    "\n",
    "We use the gdal ReadAsArray(xoff,yoff,xsize,ysize) function where\n",
    "\n",
    "- xoff = offset in pixels from upper left\n",
    "- yoff = offset in lines from upper left\n",
    "- xsize = number of pixels \n",
    "- ysize = number of lines\n",
    "\n",
    "If ReadAsArray() is called without any parameters set, the entire image data stack is read. ReadAsArray() returns a numpy array of the form:\n",
    "\n",
    "    [bands,lines,pixels]"
   ]
  },
  {
   "cell_type": "code",
   "execution_count": null,
   "metadata": {},
   "outputs": [],
   "source": [
    "# Alternatively you can make subset a tuple variable and use \n",
    "# it in the ReadAsArray function call prefixed with a star\n",
    "subset=(200,200,1000,1000)\n",
    "rasterDN = img.ReadAsArray(*subset)\n",
    "rasterDN[rasterDN==0]=1"
   ]
  },
  {
   "cell_type": "markdown",
   "metadata": {},
   "source": [
    "The numpy .shape object tells us the dimensions of this data stack as *bands (here:time steps), lines, and pixels*:"
   ]
  },
  {
   "cell_type": "code",
   "execution_count": null,
   "metadata": {},
   "outputs": [],
   "source": [
    "rasterDN.shape"
   ]
  },
  {
   "cell_type": "markdown",
   "metadata": {},
   "source": [
    "## Data conversion from linear scaled amplitudes to dB, power and amplitude data"
   ]
  },
  {
   "cell_type": "markdown",
   "metadata": {},
   "source": [
    "The values of the raw image data show the linearly scaled amplitude values. These digital number (DN) values need to be converted to proper backscatter values of $\\gamma^o$.\n",
    "\n",
    "We consider conversion to dB scale (logarithmic scale for the expression of the SAR backscatter, power, or amplitude scale.\n",
    "\n",
    "SAR backscatter data of radiometrically terrain corrected data are often expressed as $\\sigma^o$ or the terrain flattened $\\gamma^o$ backscattering coefficients. For forest and land cover monitoring applications $\\gamma^o$ is the preferred metric. Conversion from power to the logarithmic decibel (dB) scale follows:\n",
    "\n",
    "$\\gamma^o_{dB} = 10 \\times log_{10}(\\gamma^o_{power})$\n",
    "\n",
    "As per widely used convention SAR backscatter data are often stored in 16bit unsigned integer values as linearly scaled amplitude data (referred to below as digital numbers **DN**), conversion to dB scale from the linear scaled amplitues is performed with a standard **calibration factor of -83 dB**. This is how ALOS SAR data are distributed by JAXA, how Earth Big Data LLC produces all SAR data including Sentinel-1 data, and how NISAR data will likely be scaled:"
   ]
  },
  {
   "cell_type": "markdown",
   "metadata": {},
   "source": [
    "$\\gamma^o_{dB} = 20 * log10(DN) -83$"
   ]
  },
  {
   "cell_type": "code",
   "execution_count": null,
   "metadata": {},
   "outputs": [],
   "source": [
    "rasterdB=20*np.log10(rasterDN)-83"
   ]
  },
  {
   "cell_type": "markdown",
   "metadata": {},
   "source": [
    "Conversion from dB to power:"
   ]
  },
  {
   "cell_type": "markdown",
   "metadata": {},
   "source": [
    "$\\gamma^o_{pwr} = 10^{\\frac{\\gamma^o_{dB}}{10}}$"
   ]
  },
  {
   "cell_type": "code",
   "execution_count": null,
   "metadata": {},
   "outputs": [],
   "source": [
    "rasterPwr=np.power(10.,rasterdB/10.)"
   ]
  },
  {
   "cell_type": "markdown",
   "metadata": {},
   "source": [
    "Conversion from power to amplitude:"
   ]
  },
  {
   "cell_type": "markdown",
   "metadata": {},
   "source": [
    "$\\gamma^o_{amp} = \\sqrt{\\gamma^o_{pwr}}$"
   ]
  },
  {
   "cell_type": "code",
   "execution_count": null,
   "metadata": {},
   "outputs": [],
   "source": [
    "rasterAmp=np.sqrt(rasterPwr)"
   ]
  },
  {
   "cell_type": "markdown",
   "metadata": {},
   "source": [
    "### Explore the image bands of the time steps\n",
    "Let's explore how a band looks in the various image scales"
   ]
  },
  {
   "cell_type": "markdown",
   "metadata": {},
   "source": [
    "#### Choose the band number and find which date it is"
   ]
  },
  {
   "cell_type": "code",
   "execution_count": null,
   "metadata": {
    "hide_input": false
   },
   "outputs": [],
   "source": [
    "bandnbr=20\n",
    "tindex[bandnbr-1]"
   ]
  },
  {
   "cell_type": "markdown",
   "metadata": {},
   "source": [
    "Below is the python code to create a four-part figure comparing the effect of the representation of the backscatter values in the DN, amplitude, power and dB scale."
   ]
  },
  {
   "cell_type": "code",
   "execution_count": null,
   "metadata": {},
   "outputs": [],
   "source": [
    "fig=plt.figure(figsize=(16,16))\n",
    "\n",
    "ax1=fig.add_subplot(221)\n",
    "ax2=fig.add_subplot(222)\n",
    "ax3=fig.add_subplot(223)\n",
    "ax4=fig.add_subplot(224)\n",
    "\n",
    "ax1.imshow(rasterDN[bandnbr],cmap='gray',\n",
    "           vmin=np.percentile(rasterDN,3),\n",
    "           vmax=np.percentile(rasterDN,97),interpolation='bilinear')\n",
    "ax2.imshow(rasterAmp[bandnbr],cmap='gray',\n",
    "           vmin=np.percentile(rasterAmp,3),\n",
    "           vmax=np.percentile(rasterAmp,97),interpolation='bilinear')\n",
    "ax3.imshow(rasterPwr[bandnbr],cmap='gray',\n",
    "           vmin=np.percentile(rasterPwr,3),\n",
    "           vmax=np.percentile(rasterPwr,97),interpolation='bilinear')\n",
    "ax4.imshow(rasterdB[bandnbr],cmap='gray',\n",
    "           vmin=-15,\n",
    "           vmax=0,interpolation='bilinear')\n",
    "\n",
    "ax1.set_title('DN Scaled (Amplitudes)')\n",
    "ax2.set_title('Amplitude Scaled')\n",
    "ax3.set_title('Power Scaled')\n",
    "_=ax4.set_title('dB Scaled')"
   ]
  },
  {
   "cell_type": "markdown",
   "metadata": {},
   "source": [
    "### Comparing histograms of the amplitude, power, and dB scaled data"
   ]
  },
  {
   "cell_type": "code",
   "execution_count": null,
   "metadata": {},
   "outputs": [],
   "source": [
    "# Setup for three part figure\n",
    "fig=plt.figure(figsize=(16,4))\n",
    "fig.suptitle('Comparison of Histograms of SAR Backscatter in Different Scales',fontsize=14)\n",
    "ax1=fig.add_subplot(131)\n",
    "ax2=fig.add_subplot(132)\n",
    "ax3=fig.add_subplot(133)\n",
    "\n",
    "# Important to \"flatten\" the 2D raster image to produce a historgram\n",
    "ax1.hist(rasterAmp[bandnbr].flatten(),bins=100,range=(0.,0.7))\n",
    "ax2.hist(rasterPwr[bandnbr].flatten(),bins=100,range=(0.,0.5))\n",
    "ax3.hist(rasterdB[bandnbr].flatten(),bins=100,range=(-25,0))\n",
    "\n",
    "# Means, medians and stddev\n",
    "amp_mean=rasterAmp[bandnbr].mean()\n",
    "amp_std=rasterAmp[bandnbr].std()\n",
    "pwr_mean=rasterPwr[bandnbr].mean()\n",
    "pwr_std=rasterPwr[bandnbr].std()\n",
    "dB_mean=rasterdB[bandnbr].mean()\n",
    "dB_std=rasterdB[bandnbr].std()\n",
    "\n",
    "# Some lines for mean and median\n",
    "ax1.axvline(amp_mean,color='red')\n",
    "ax1.axvline(np.median(rasterAmp[bandnbr]),color='blue')\n",
    "ax2.axvline(pwr_mean,color='red',label='Mean')\n",
    "ax2.axvline(np.median(rasterPwr[bandnbr]),color='blue',label='Median')\n",
    "ax3.axvline(dB_mean,color='red')\n",
    "ax3.axvline(np.median(rasterdB[bandnbr]),color='blue')\n",
    "\n",
    "# Lines for 1 stddev\n",
    "ax1.axvline(amp_mean-amp_std,color='gray')\n",
    "ax1.axvline(amp_mean+amp_std,color='gray')\n",
    "ax2.axvline(pwr_mean-pwr_std,color='gray',label='1 $\\sigma$')\n",
    "ax2.axvline(pwr_mean+pwr_std,color='gray')\n",
    "ax3.axvline(dB_mean-dB_std,color='gray')\n",
    "ax3.axvline(dB_mean+dB_std,color='gray')\n",
    "\n",
    "ax1.set_title('Amplitude Scaled')\n",
    "ax2.set_title('Power Scaled')\n",
    "ax3.set_title('dB Scaled')\n",
    "_=ax2.legend()\n"
   ]
  },
  {
   "cell_type": "markdown",
   "metadata": {},
   "source": [
    "## Why is the scale important?\n",
    "It is critical to use the correct scaleing of SAR data for image processing operations. As we can see from the comparison of the histograms, the amplitude, power, or dB scales have different statistial distributions. \n",
    "\n",
    "In time series analysis we often compare measurements at any given time steps against the mean of the time series and compute its residuals. When we compute the mean of observations, it makes a difference wheather we do that in power or dB scale. Since dB scale is a logarithmic scale, we cannot simply average data in that scale. Consider the following backscatter values and their mean:\n",
    "\n",
    "\n",
    "$\\gamma^o_1 = -10 dB$  \n",
    "\n",
    "$\\gamma^o_2 = -15 dB$\n",
    "\n",
    "Let's compute the mean of these values in power and dB scale and compare the result in dB scale:"
   ]
  },
  {
   "cell_type": "code",
   "execution_count": null,
   "metadata": {},
   "outputs": [],
   "source": [
    "g1_dB = -10\n",
    "g2_dB = -15\n",
    "g1_pwr = np.power(10.,-10/10.)\n",
    "g2_pwr = np.power(10.,-15/10.)\n",
    "\n",
    "mean_dB = (g1_dB+g2_dB)/2.\n",
    "mean_pwr = (g1_pwr+g2_pwr)/2.\n",
    "mean_pwr_inDB = 10.*np.log10(mean_pwr)\n",
    "\n",
    "print('Mean averaging dB values         : {:.1f}'.format(mean_dB))\n",
    "print('Mean averagin power values in dB : {:.1f}'.format(mean_pwr_inDB))"
   ]
  },
  {
   "cell_type": "markdown",
   "metadata": {},
   "source": [
    "As one can see, there is a 0.7 dB difference in the average of these two $\\gamma^o$ backscatter values.\n",
    "If we make mean estimates of backscatter values, the **correct scale** in which operations need to be performed **is the power scale.**\n",
    "This is critical, e.g. when speckle filters are applied, spatial operations like block averaging are performed, or time series are analyzed. Very often we implement models that relate backscatter to biophysical variables like biomass, forest height, or use thresholds to determine change. Ensure that the proper scaling is done when working with the SAR data applying these models.\n",
    "\n",
    "Another example of the effects can be illustrated with our backscatter data from the images we extracted. Consider a 1 hectare window extracted from our data sets with an off set of 500, 500 for band 20. We compute the mean over time and space of all the pixels."
   ]
  },
  {
   "cell_type": "code",
   "execution_count": null,
   "metadata": {},
   "outputs": [],
   "source": [
    "offset=500\n",
    "size=5\n",
    "o1=offset\n",
    "o2=offset+size"
   ]
  },
  {
   "cell_type": "code",
   "execution_count": null,
   "metadata": {},
   "outputs": [],
   "source": [
    "mean_dB = rasterdB[:,o1:o2,o1:o2].mean()\n",
    "mean_dB"
   ]
  },
  {
   "cell_type": "code",
   "execution_count": null,
   "metadata": {},
   "outputs": [],
   "source": [
    "mean_pwr = rasterPwr[:,o1:o2,o1:o2].mean()\n",
    "mean_pwr_in_dB = 10.* np.log10(mean_pwr)\n",
    "mean_pwr_in_dB"
   ]
  },
  {
   "cell_type": "markdown",
   "metadata": {},
   "source": [
    "As one can see, a difference of close to -3 dB is found simply by operating in the different scales. Hence: CAUTION!"
   ]
  },
  {
   "cell_type": "markdown",
   "metadata": {},
   "source": [
    "## Exploring Polarization Differences\n",
    "We look at the backscatter characteristics in SAR data from like polarized (same transmit and reveive polarzation, hh or vv) and cross-polarized (vh or hv polarization). For this, we read a timestep in both polarizations, plot the histograms, and display the images in dB scale. First, we open the images, pick the bands from the same acquisition date, read the raster bands and convert them to dB scale."
   ]
  },
  {
   "cell_type": "code",
   "execution_count": null,
   "metadata": {},
   "outputs": [],
   "source": [
    "# Open the Images\n",
    "img_like=gdal.Open(imagefile)\n",
    "img_cross=gdal.Open(imagefile_cross)\n",
    "# Pick the bands, read rasters and convert to dB\n",
    "bandnbr_like=20\n",
    "bandnbr_cross=20\n",
    "rl=img_like.GetRasterBand(bandnbr_like).ReadAsArray()\n",
    "rl[rl==0]=1\n",
    "rc=img_cross.GetRasterBand(bandnbr_cross).ReadAsArray()\n",
    "rc[rc==0]=1\n",
    "rl_dB=20.*np.log10(rl)-83\n",
    "rc_dB=20.*np.log10(rc)-83"
   ]
  },
  {
   "cell_type": "markdown",
   "metadata": {},
   "source": [
    "Now, we explore the differences in the polarizations by plotting the images with their histograms. We look at the db ranges over which the histograms spread, and can adjust the linear scaling in the image display accordingly to enhace contrast. In the case below\n",
    "\n",
    "- C-vv like polarized data are mostly spread from -17.5 to -5 dB\n",
    "- C-vh cross polarized data are mostly spread from -25 to -10 dB\n",
    "\n",
    "Thus, we note that the cross-polarized data exhibit a larger dynamic range of about 2.5 dB"
   ]
  },
  {
   "cell_type": "code",
   "execution_count": null,
   "metadata": {},
   "outputs": [],
   "source": [
    "fig,ax=plt.subplots(nrows=2,ncols=2,figsize=(16,16))\n",
    "fig.suptitle('Comaprison of Like- and Cross-Polarized Sentinel-1 C-band Data',\n",
    "             fontsize=14)\n",
    "ax[0][0].set_title('C-VV Image')\n",
    "ax[0][1].set_title('C-VH Image')\n",
    "ax[1][0].set_title('C-VV Histogram')\n",
    "ax[1][1].set_title('C-VH Histogram')\n",
    "ax[0][0].axis('off')\n",
    "ax[0][1].axis('off')\n",
    "ax[0][0].imshow(rl_dB,vmin=-15,vmax=0,cmap='gray',interpolation='bilinear')\n",
    "ax[0][1].imshow(rc_dB,vmin=-20,vmax=-5,cmap='gray',interpolation='bilinear')\n",
    "ax[1][0].hist(rl_dB.flatten(),range=(-25,0),bins=100)\n",
    "ax[1][1].hist(rc_dB.flatten(),range=(-25,0),bins=100)\n",
    "fig.tight_layout()  # Use the tight layout to make the figure more compact"
   ]
  }
 ],
 "metadata": {
  "_draft": {
   "nbviewer_url": "https://gist.github.com/701ee0854295ac8b8416a8cedeaef584"
  },
  "celltoolbar": "Raw Cell Format",
  "gist": {
   "data": {
    "description": "EBD_SAR1 Introduction to SAR Data",
    "public": false
   },
   "id": "701ee0854295ac8b8416a8cedeaef584"
  },
  "hide_input": false,
  "kernelspec": {
   "display_name": "Python [conda env:ebd]",
   "language": "python",
   "name": "conda-env-ebd-py"
  },
  "language_info": {
   "codemirror_mode": {
    "name": "ipython",
    "version": 3
   },
   "file_extension": ".py",
   "mimetype": "text/x-python",
   "name": "python",
   "nbconvert_exporter": "python",
   "pygments_lexer": "ipython3",
   "version": "3.7.3"
  },
  "nbpresent": {
   "slides": {
    "0cda1ca3-b50b-4798-9344-fd4b3e8f7be7": {
     "id": "0cda1ca3-b50b-4798-9344-fd4b3e8f7be7",
     "prev": "e9645e97-076d-49a2-ac50-60df72e22059",
     "regions": {
      "ca5fd739-80ad-4f3d-aa76-3f559a12bc9c": {
       "attrs": {
        "height": 0.8,
        "width": 0.8,
        "x": 0.1,
        "y": 0.1
       },
       "content": {
        "cell": "d6262ab2-5b2a-404b-91a5-03a303e4a7cf",
        "part": "whole"
       },
       "id": "ca5fd739-80ad-4f3d-aa76-3f559a12bc9c"
      }
     }
    },
    "0d5f4ac8-6c89-41d4-a4a7-d928bb5377c9": {
     "id": "0d5f4ac8-6c89-41d4-a4a7-d928bb5377c9",
     "prev": "eef0d87f-4f03-45b9-ba0f-cde00f646fb5",
     "regions": {
      "b7a43559-312a-45b0-b405-2d6108aa6e2d": {
       "attrs": {
        "height": 0.8,
        "width": 0.8,
        "x": 0.1,
        "y": 0.1
       },
       "content": {
        "cell": "ba13bef6-7ca2-4f59-bede-1576666c4aec",
        "part": "whole"
       },
       "id": "b7a43559-312a-45b0-b405-2d6108aa6e2d"
      }
     }
    },
    "0fb1f28f-c4a0-4263-a652-ae7fa9329642": {
     "id": "0fb1f28f-c4a0-4263-a652-ae7fa9329642",
     "prev": "3c5163d1-df94-455b-94ef-4b921e60e0cb",
     "regions": {
      "44b6529b-4209-4f83-826b-6167a06ba63f": {
       "attrs": {
        "height": 0.8,
        "width": 0.8,
        "x": 0.1,
        "y": 0.1
       },
       "content": {
        "cell": "3830bd10-b149-45ac-a5cf-9d2c6eb88b3d",
        "part": "whole"
       },
       "id": "44b6529b-4209-4f83-826b-6167a06ba63f"
      }
     }
    },
    "0fbe33f4-655a-4ea5-904c-0ca3dba95703": {
     "id": "0fbe33f4-655a-4ea5-904c-0ca3dba95703",
     "prev": "2324cf38-01dc-437d-bf8f-e2d432412648",
     "regions": {
      "d177ca5d-d324-42d3-aa86-3df5ebc667a8": {
       "attrs": {
        "height": 0.8,
        "width": 0.8,
        "x": 0.1,
        "y": 0.1
       },
       "content": {
        "cell": "39336db1-d60f-40d6-9611-43b87d7c4448",
        "part": "whole"
       },
       "id": "d177ca5d-d324-42d3-aa86-3df5ebc667a8"
      }
     }
    },
    "0fc490ba-4de8-4b2c-a803-904009f634f2": {
     "id": "0fc490ba-4de8-4b2c-a803-904009f634f2",
     "prev": "43bea5d1-2b63-49cf-97dd-4fbb991696e9",
     "regions": {
      "6cae3635-7987-4e3d-a04c-e12bc8d80587": {
       "attrs": {
        "height": 0.8,
        "width": 0.8,
        "x": 0.1,
        "y": 0.1
       },
       "content": {
        "cell": "514b065d-9316-411c-9627-3de64a8443d3",
        "part": "whole"
       },
       "id": "6cae3635-7987-4e3d-a04c-e12bc8d80587"
      }
     }
    },
    "14bd973f-6471-4e23-9da2-249109ff5366": {
     "id": "14bd973f-6471-4e23-9da2-249109ff5366",
     "prev": "50f9ba56-9463-4ab9-9dc5-ce812698cea7",
     "regions": {
      "aafbf90c-b4db-4bab-a1bf-2d0812c14587": {
       "attrs": {
        "height": 0.8,
        "width": 0.8,
        "x": 0.1,
        "y": 0.1
       },
       "content": {
        "cell": "0d27145e-9f49-468e-912f-12549f6305bd",
        "part": "whole"
       },
       "id": "aafbf90c-b4db-4bab-a1bf-2d0812c14587"
      }
     }
    },
    "1739ad60-442f-40f8-abe3-89b2763deede": {
     "id": "1739ad60-442f-40f8-abe3-89b2763deede",
     "prev": "d05d8dd7-470e-4e23-bab7-ebc51ebbf189",
     "regions": {
      "0ffd91c9-f03d-451f-8102-91177db7721c": {
       "attrs": {
        "height": 0.8,
        "width": 0.8,
        "x": 0.1,
        "y": 0.1
       },
       "content": {
        "cell": "7881f388-f9d7-4e0b-a114-6180b63bd3c8",
        "part": "whole"
       },
       "id": "0ffd91c9-f03d-451f-8102-91177db7721c"
      }
     }
    },
    "1c86f480-a955-4d4b-86da-9b7807bd9fbf": {
     "id": "1c86f480-a955-4d4b-86da-9b7807bd9fbf",
     "prev": "ab673a77-f1bc-4e64-aef5-2853ad9c4064",
     "regions": {
      "2bbfc521-62e8-4597-8c60-44c368535c7b": {
       "attrs": {
        "height": 0.8,
        "width": 0.8,
        "x": 0.1,
        "y": 0.1
       },
       "content": {
        "cell": "ba6b12c6-8625-43d6-ab66-85275130b86d",
        "part": "whole"
       },
       "id": "2bbfc521-62e8-4597-8c60-44c368535c7b"
      }
     }
    },
    "1eaad0bb-ae95-4754-a9aa-ae49d1650b94": {
     "id": "1eaad0bb-ae95-4754-a9aa-ae49d1650b94",
     "prev": "9925f3b0-6318-4c39-a5a2-b12f16ec8c0e",
     "regions": {
      "7a55be48-76de-4721-a0a8-7093df0f69c4": {
       "attrs": {
        "height": 0.8,
        "width": 0.8,
        "x": 0.1,
        "y": 0.1
       },
       "content": {
        "cell": "8474dfdd-e8f0-4bf9-9b6b-c5e2a4705205",
        "part": "whole"
       },
       "id": "7a55be48-76de-4721-a0a8-7093df0f69c4"
      }
     }
    },
    "1f428a4b-e6bf-44f4-82a8-000df44d6bba": {
     "id": "1f428a4b-e6bf-44f4-82a8-000df44d6bba",
     "prev": "aec177c7-97b5-4a99-a26d-c05abe673669",
     "regions": {
      "63eaf767-638e-4298-a509-4a5241a62a5b": {
       "attrs": {
        "height": 0.8,
        "width": 0.8,
        "x": 0.1,
        "y": 0.1
       },
       "content": {
        "cell": "5df48b8c-682d-4b26-9a9a-7ad29390776a",
        "part": "whole"
       },
       "id": "63eaf767-638e-4298-a509-4a5241a62a5b"
      }
     }
    },
    "2324cf38-01dc-437d-bf8f-e2d432412648": {
     "id": "2324cf38-01dc-437d-bf8f-e2d432412648",
     "prev": "eebd33cb-9a34-4744-9296-591db296e8b2",
     "regions": {
      "63594b82-45aa-40da-ad89-5e7384852d6b": {
       "attrs": {
        "height": 0.8,
        "width": 0.8,
        "x": 0.1,
        "y": 0.1
       },
       "content": {
        "cell": "a9217cf4-e4b0-40e5-8f1c-a9808f4c6b06",
        "part": "whole"
       },
       "id": "63594b82-45aa-40da-ad89-5e7384852d6b"
      }
     }
    },
    "23d5c33a-c24c-4b29-8ac6-2caba92a1281": {
     "id": "23d5c33a-c24c-4b29-8ac6-2caba92a1281",
     "prev": "84ff8974-da4a-420a-94c7-8623bd15e41e",
     "regions": {
      "349c8ce3-68f0-48c6-b3a3-6835369b65a9": {
       "attrs": {
        "height": 0.8,
        "width": 0.8,
        "x": 0.1,
        "y": 0.1
       },
       "content": {
        "cell": "56933d23-6daa-4ee6-8945-fe1ba317cc7e",
        "part": "whole"
       },
       "id": "349c8ce3-68f0-48c6-b3a3-6835369b65a9"
      }
     }
    },
    "2497cbf5-7d66-4c44-ac3d-2f3f81b22e0e": {
     "id": "2497cbf5-7d66-4c44-ac3d-2f3f81b22e0e",
     "prev": "254ceda7-ae3b-4e0f-960e-4f986d6b2691",
     "regions": {
      "d714ee1d-5dd4-458b-b1c3-f6a5e24ddba0": {
       "attrs": {
        "height": 0.8,
        "width": 0.8,
        "x": 0.1,
        "y": 0.1
       },
       "content": {
        "cell": "f30898ee-b1ac-4b4e-a009-ffaa67e60060",
        "part": "whole"
       },
       "id": "d714ee1d-5dd4-458b-b1c3-f6a5e24ddba0"
      }
     }
    },
    "254ceda7-ae3b-4e0f-960e-4f986d6b2691": {
     "id": "254ceda7-ae3b-4e0f-960e-4f986d6b2691",
     "prev": "b518241b-c800-4c64-935d-5ba9eff67002",
     "regions": {
      "9d32a0f6-2f4f-4a91-8dba-9acb7f9260fe": {
       "attrs": {
        "height": 0.8,
        "width": 0.8,
        "x": 0.1,
        "y": 0.1
       },
       "content": {
        "cell": "26c050b7-475c-49a7-b0d4-1f040758cfe7",
        "part": "whole"
       },
       "id": "9d32a0f6-2f4f-4a91-8dba-9acb7f9260fe"
      }
     }
    },
    "256008c6-6298-4d0c-a5c9-f13c399153e3": {
     "id": "256008c6-6298-4d0c-a5c9-f13c399153e3",
     "prev": "a9c7a59c-07a5-4c53-9a59-4b5ecfb837ae",
     "regions": {
      "9cf17696-aaf8-4913-a387-c5575c95ab48": {
       "attrs": {
        "height": 0.8,
        "width": 0.8,
        "x": 0.1,
        "y": 0.1
       },
       "content": {
        "cell": "2c69baad-3ad2-49fc-8102-3f38868aee38",
        "part": "whole"
       },
       "id": "9cf17696-aaf8-4913-a387-c5575c95ab48"
      }
     }
    },
    "28a8a521-2777-47fd-b376-455aa39a0c00": {
     "id": "28a8a521-2777-47fd-b376-455aa39a0c00",
     "prev": "5df9736d-e121-4891-a5c2-27b548effc6c",
     "regions": {
      "0acb3203-9c01-4c8e-91eb-33d0fab3518a": {
       "attrs": {
        "height": 0.8,
        "width": 0.8,
        "x": 0.1,
        "y": 0.1
       },
       "content": {
        "cell": "af65de8e-31b2-48c4-8784-0cb1bd73a2cb",
        "part": "whole"
       },
       "id": "0acb3203-9c01-4c8e-91eb-33d0fab3518a"
      }
     }
    },
    "2a6b2c7a-5dd8-45b7-a469-b1ba766d6763": {
     "id": "2a6b2c7a-5dd8-45b7-a469-b1ba766d6763",
     "prev": "aa88a4cd-8f21-4eaa-b361-c908ad632906",
     "regions": {
      "261298cb-895e-4047-b203-03dc9f084a5b": {
       "attrs": {
        "height": 0.8,
        "width": 0.8,
        "x": 0.1,
        "y": 0.1
       },
       "content": {
        "cell": "2cd28d33-81e1-4adf-bf3d-69b4b426d5c0",
        "part": "whole"
       },
       "id": "261298cb-895e-4047-b203-03dc9f084a5b"
      }
     }
    },
    "30d19d04-6869-44a2-933c-9fe7d8fb47e5": {
     "id": "30d19d04-6869-44a2-933c-9fe7d8fb47e5",
     "prev": "d3abd4fd-5595-426f-a2fe-dc2235b702b0",
     "regions": {
      "bf343acc-0afd-48c6-ae24-4afda37e6276": {
       "attrs": {
        "height": 0.8,
        "width": 0.8,
        "x": 0.1,
        "y": 0.1
       },
       "content": {
        "cell": "6334c581-7b71-455f-9559-850ad0db3a24",
        "part": "whole"
       },
       "id": "bf343acc-0afd-48c6-ae24-4afda37e6276"
      }
     }
    },
    "35a7448d-9e3d-4a37-941a-9d1679acef2d": {
     "id": "35a7448d-9e3d-4a37-941a-9d1679acef2d",
     "prev": "831ea5db-96f7-4596-a3f8-b581e2a927ed",
     "regions": {
      "42510c81-d23b-44a8-bc36-38978fcd22d2": {
       "attrs": {
        "height": 0.8,
        "width": 0.8,
        "x": 0.1,
        "y": 0.1
       },
       "content": {
        "cell": "a0df5418-4d19-4c2a-983b-519c975b16da",
        "part": "whole"
       },
       "id": "42510c81-d23b-44a8-bc36-38978fcd22d2"
      }
     }
    },
    "37b83c17-5c41-42f2-8014-08c0758f00d9": {
     "id": "37b83c17-5c41-42f2-8014-08c0758f00d9",
     "prev": "4fbf44b5-fea6-4c14-a6a6-e35c599bb7e1",
     "regions": {
      "03e1ed2f-dcab-4461-ba48-400a5d4275e0": {
       "attrs": {
        "height": 0.8,
        "width": 0.8,
        "x": 0.1,
        "y": 0.1
       },
       "content": {
        "cell": "aab69cbe-ed08-454f-8325-2b2189e8e4b4",
        "part": "whole"
       },
       "id": "03e1ed2f-dcab-4461-ba48-400a5d4275e0"
      }
     }
    },
    "38a629d5-1e3a-4e8a-9a28-c6f4a948e9b1": {
     "id": "38a629d5-1e3a-4e8a-9a28-c6f4a948e9b1",
     "prev": "7d690d4e-3b1d-4603-a03f-862e1c4fda64",
     "regions": {
      "59506335-0cf6-4c91-a168-088e4ed3b5a8": {
       "attrs": {
        "height": 0.8,
        "width": 0.8,
        "x": 0.1,
        "y": 0.1
       },
       "content": {
        "cell": "900b45f9-53dc-4c52-ac9a-70e16734c91b",
        "part": "whole"
       },
       "id": "59506335-0cf6-4c91-a168-088e4ed3b5a8"
      }
     }
    },
    "3c5163d1-df94-455b-94ef-4b921e60e0cb": {
     "id": "3c5163d1-df94-455b-94ef-4b921e60e0cb",
     "prev": "79ad71a2-345a-4b0d-92ff-07f1ca4f3778",
     "regions": {
      "edac22c3-ebc2-4fb8-9c4a-901f2f41de00": {
       "attrs": {
        "height": 0.8,
        "width": 0.8,
        "x": 0.1,
        "y": 0.1
       },
       "content": {
        "cell": "84758eb1-df39-486a-8c7d-d736e59974ed",
        "part": "whole"
       },
       "id": "edac22c3-ebc2-4fb8-9c4a-901f2f41de00"
      }
     }
    },
    "3c5a1408-d679-4cf1-a5a1-b0353ac7d1e5": {
     "id": "3c5a1408-d679-4cf1-a5a1-b0353ac7d1e5",
     "prev": "0fbe33f4-655a-4ea5-904c-0ca3dba95703",
     "regions": {
      "f27f8492-fdae-4cc4-88b1-0bcafe3d9eef": {
       "attrs": {
        "height": 0.8,
        "width": 0.8,
        "x": 0.1,
        "y": 0.1
       },
       "content": {
        "cell": "2bb67d4c-9ad2-4c8c-86a4-6155e91622b4",
        "part": "whole"
       },
       "id": "f27f8492-fdae-4cc4-88b1-0bcafe3d9eef"
      }
     }
    },
    "3e486bfe-b426-492f-90d6-238ee0427ed5": {
     "id": "3e486bfe-b426-492f-90d6-238ee0427ed5",
     "prev": "8425370d-15a1-4f25-b9da-e84ad1287d1e",
     "regions": {
      "4c001540-f9dd-43fb-9ba8-8733ce03a34a": {
       "attrs": {
        "height": 0.8,
        "width": 0.8,
        "x": 0.1,
        "y": 0.1
       },
       "content": {
        "cell": "6b6ca69a-49bf-4a5f-bc50-ea743dadd636",
        "part": "whole"
       },
       "id": "4c001540-f9dd-43fb-9ba8-8733ce03a34a"
      }
     }
    },
    "4319f966-748c-4bdb-87db-82fccd9fbab8": {
     "id": "4319f966-748c-4bdb-87db-82fccd9fbab8",
     "prev": "59d08889-6ffc-4fd1-83b3-4552f9e2d4ff",
     "regions": {
      "b8c9af7a-7772-4505-815f-31a9f53f99fe": {
       "attrs": {
        "height": 0.8,
        "width": 0.8,
        "x": 0.1,
        "y": 0.1
       },
       "content": {
        "cell": "8a0f03f2-81bd-4b01-95db-aed3cdb16eeb",
        "part": "whole"
       },
       "id": "b8c9af7a-7772-4505-815f-31a9f53f99fe"
      }
     }
    },
    "43bea5d1-2b63-49cf-97dd-4fbb991696e9": {
     "id": "43bea5d1-2b63-49cf-97dd-4fbb991696e9",
     "prev": "c003f7be-b32e-4ee0-a144-e55feca49497",
     "regions": {
      "4c99377a-df0c-4984-9c03-c0d6a5b911aa": {
       "attrs": {
        "height": 0.8,
        "width": 0.8,
        "x": 0.1,
        "y": 0.1
       },
       "content": {
        "cell": "45df5e34-131f-46b5-8943-576b4d546e33",
        "part": "whole"
       },
       "id": "4c99377a-df0c-4984-9c03-c0d6a5b911aa"
      }
     }
    },
    "495742f6-5219-4bcc-bd71-a36aced67599": {
     "id": "495742f6-5219-4bcc-bd71-a36aced67599",
     "prev": "be5f20c8-8ae9-4334-a299-3b31edc0a194",
     "regions": {
      "83868cfa-7ea3-4335-bc89-5e2bf4713666": {
       "attrs": {
        "height": 0.8,
        "width": 0.8,
        "x": 0.1,
        "y": 0.1
       },
       "content": {
        "cell": "6a84b809-79f0-4d7c-8408-7fdedd9a57c3",
        "part": "whole"
       },
       "id": "83868cfa-7ea3-4335-bc89-5e2bf4713666"
      }
     }
    },
    "4a821faa-cb0f-4ba3-8813-d0b3a6ae6701": {
     "id": "4a821faa-cb0f-4ba3-8813-d0b3a6ae6701",
     "prev": "4ea3a285-a5e8-49c6-9e73-63683d0f395a",
     "regions": {
      "feacd8ef-bb79-42d3-942c-2eb1a44e7380": {
       "attrs": {
        "height": 0.8,
        "width": 0.8,
        "x": 0.1,
        "y": 0.1
       },
       "content": {
        "cell": "8d495997-2918-4571-8e76-fcdc5b4d8392",
        "part": "whole"
       },
       "id": "feacd8ef-bb79-42d3-942c-2eb1a44e7380"
      }
     }
    },
    "4e10843a-0907-412d-8b00-24303035bb55": {
     "id": "4e10843a-0907-412d-8b00-24303035bb55",
     "prev": "3c5a1408-d679-4cf1-a5a1-b0353ac7d1e5",
     "regions": {
      "6b82c89a-23b9-4099-8f46-49035b66c358": {
       "attrs": {
        "height": 0.8,
        "width": 0.8,
        "x": 0.1,
        "y": 0.1
       },
       "content": {
        "cell": "dffe6bdf-acbc-4675-bd0d-b9249e793647",
        "part": "whole"
       },
       "id": "6b82c89a-23b9-4099-8f46-49035b66c358"
      }
     }
    },
    "4e878ddf-5e37-476f-b34e-fb4581422e5e": {
     "id": "4e878ddf-5e37-476f-b34e-fb4581422e5e",
     "prev": "5af1bb7d-1618-4231-b9a8-0ed94c28a4ec",
     "regions": {
      "012c0a02-49d9-46ec-885a-fb9644d82158": {
       "attrs": {
        "height": 0.8,
        "width": 0.8,
        "x": 0.1,
        "y": 0.1
       },
       "content": {
        "cell": "a0859f48-3b29-42ac-9002-583780939373",
        "part": "whole"
       },
       "id": "012c0a02-49d9-46ec-885a-fb9644d82158"
      }
     }
    },
    "4ea3a285-a5e8-49c6-9e73-63683d0f395a": {
     "id": "4ea3a285-a5e8-49c6-9e73-63683d0f395a",
     "prev": "ebd3a3d1-f8d1-4480-8b59-b2145a9993b2",
     "regions": {
      "8c4347cc-5483-4674-b279-70167997b32f": {
       "attrs": {
        "height": 0.8,
        "width": 0.8,
        "x": 0.1,
        "y": 0.1
       },
       "content": {
        "cell": "5a182a07-4c45-4510-80f7-2cfd423dbbce",
        "part": "whole"
       },
       "id": "8c4347cc-5483-4674-b279-70167997b32f"
      }
     }
    },
    "4f86b6de-3ae1-4cc9-bfb5-675edce26342": {
     "id": "4f86b6de-3ae1-4cc9-bfb5-675edce26342",
     "prev": "919bd687-87ac-4db6-83a2-8345ecc62bbf",
     "regions": {
      "27d87bcb-a877-459c-b0a5-1e116916540d": {
       "attrs": {
        "height": 0.8,
        "width": 0.8,
        "x": 0.1,
        "y": 0.1
       },
       "content": {
        "cell": "0a12e3d7-99a8-4bf8-94ba-443710259001",
        "part": "whole"
       },
       "id": "27d87bcb-a877-459c-b0a5-1e116916540d"
      }
     }
    },
    "4fbf44b5-fea6-4c14-a6a6-e35c599bb7e1": {
     "id": "4fbf44b5-fea6-4c14-a6a6-e35c599bb7e1",
     "prev": "2a6b2c7a-5dd8-45b7-a469-b1ba766d6763",
     "regions": {
      "e2d59597-40a5-4b3c-9c65-617d538cabe7": {
       "attrs": {
        "height": 0.8,
        "width": 0.8,
        "x": 0.1,
        "y": 0.1
       },
       "content": {
        "cell": "4c9c1fb8-5d77-4302-9c2a-dd5e329a8eda",
        "part": "whole"
       },
       "id": "e2d59597-40a5-4b3c-9c65-617d538cabe7"
      }
     }
    },
    "50f9ba56-9463-4ab9-9dc5-ce812698cea7": {
     "id": "50f9ba56-9463-4ab9-9dc5-ce812698cea7",
     "prev": "3e486bfe-b426-492f-90d6-238ee0427ed5",
     "regions": {
      "5c17dfe4-6ce9-428d-898b-121f04042769": {
       "attrs": {
        "height": 0.8,
        "width": 0.8,
        "x": 0.1,
        "y": 0.1
       },
       "content": {
        "cell": "e9214d47-7e39-4509-873e-f209db97deab",
        "part": "whole"
       },
       "id": "5c17dfe4-6ce9-428d-898b-121f04042769"
      }
     }
    },
    "513fac53-c8eb-4933-bd7c-b7185f15cb7e": {
     "id": "513fac53-c8eb-4933-bd7c-b7185f15cb7e",
     "prev": "f1e61699-d8cb-42b1-a5b6-b3f50e59efa3",
     "regions": {
      "48a6f3cc-58a1-45c9-93fd-7a854dfff803": {
       "attrs": {
        "height": 0.8,
        "width": 0.8,
        "x": 0.1,
        "y": 0.1
       },
       "content": {
        "cell": "13b7f3d8-ce86-4033-be6d-61fe94849da9",
        "part": "whole"
       },
       "id": "48a6f3cc-58a1-45c9-93fd-7a854dfff803"
      }
     }
    },
    "59d08889-6ffc-4fd1-83b3-4552f9e2d4ff": {
     "id": "59d08889-6ffc-4fd1-83b3-4552f9e2d4ff",
     "prev": "c829ee87-181d-4d2e-a0e8-99af875ee94d",
     "regions": {
      "9b8fa9b7-2cfe-45a0-8341-0a0d5074b39d": {
       "attrs": {
        "height": 0.8,
        "width": 0.8,
        "x": 0.1,
        "y": 0.1
       },
       "content": {
        "cell": "4fb156c6-f9a4-4f28-98b1-f09c4385092a",
        "part": "whole"
       },
       "id": "9b8fa9b7-2cfe-45a0-8341-0a0d5074b39d"
      }
     }
    },
    "5af1bb7d-1618-4231-b9a8-0ed94c28a4ec": {
     "id": "5af1bb7d-1618-4231-b9a8-0ed94c28a4ec",
     "prev": "76491ec3-f70d-4fe0-8aee-b44e5436ea6c",
     "regions": {
      "620ecada-1550-4007-bcfa-fa8113e69e57": {
       "attrs": {
        "height": 0.8,
        "width": 0.8,
        "x": 0.1,
        "y": 0.1
       },
       "content": {
        "cell": "463e9f6b-b3df-49fa-942f-7f3e095293af",
        "part": "whole"
       },
       "id": "620ecada-1550-4007-bcfa-fa8113e69e57"
      }
     }
    },
    "5db8903f-903c-457d-be24-131ae6e87d14": {
     "id": "5db8903f-903c-457d-be24-131ae6e87d14",
     "prev": "37b83c17-5c41-42f2-8014-08c0758f00d9",
     "regions": {
      "35d88b22-ae3e-418f-9216-f039e1808743": {
       "attrs": {
        "height": 0.8,
        "width": 0.8,
        "x": 0.1,
        "y": 0.1
       },
       "content": {
        "cell": "180955c1-a545-45df-b062-7f9f4d9ce2d0",
        "part": "whole"
       },
       "id": "35d88b22-ae3e-418f-9216-f039e1808743"
      }
     }
    },
    "5df9736d-e121-4891-a5c2-27b548effc6c": {
     "id": "5df9736d-e121-4891-a5c2-27b548effc6c",
     "prev": "edc897d5-8c1f-4304-b9bc-06c0eabe3de3",
     "regions": {
      "311bd714-b29b-434b-b798-9a8dd3ea1213": {
       "attrs": {
        "height": 0.8,
        "width": 0.8,
        "x": 0.1,
        "y": 0.1
       },
       "content": {
        "cell": "7713330f-a461-462e-90cb-1df7cbc921cd",
        "part": "whole"
       },
       "id": "311bd714-b29b-434b-b798-9a8dd3ea1213"
      }
     }
    },
    "5ed15d37-bcef-461a-8161-f814d2a57a19": {
     "id": "5ed15d37-bcef-461a-8161-f814d2a57a19",
     "prev": "4e878ddf-5e37-476f-b34e-fb4581422e5e",
     "regions": {
      "1a77aa03-2145-4bf3-876a-1e0f2bba1ad8": {
       "attrs": {
        "height": 0.8,
        "width": 0.8,
        "x": 0.1,
        "y": 0.1
       },
       "content": {
        "cell": "3eb84313-7808-45b7-8025-79d61321f4f8",
        "part": "whole"
       },
       "id": "1a77aa03-2145-4bf3-876a-1e0f2bba1ad8"
      }
     }
    },
    "5fd327a5-a050-40b3-beb3-0eeeb86f2e78": {
     "id": "5fd327a5-a050-40b3-beb3-0eeeb86f2e78",
     "prev": "a814cbfc-f5b5-45bc-8a5e-515356f56deb",
     "regions": {
      "eaa164fa-7f2c-4ae3-a45c-1e2dc27b2862": {
       "attrs": {
        "height": 0.8,
        "width": 0.8,
        "x": 0.1,
        "y": 0.1
       },
       "content": {
        "cell": "99e75636-2f2e-405c-9009-8eb0a28fdbe1",
        "part": "whole"
       },
       "id": "eaa164fa-7f2c-4ae3-a45c-1e2dc27b2862"
      }
     }
    },
    "601ad13d-653c-469a-a8b0-5fb8b3260cab": {
     "id": "601ad13d-653c-469a-a8b0-5fb8b3260cab",
     "prev": "1eaad0bb-ae95-4754-a9aa-ae49d1650b94",
     "regions": {
      "8bb5dcb2-cdc5-4fa7-9199-d00bc89379e4": {
       "attrs": {
        "height": 0.8,
        "width": 0.8,
        "x": 0.1,
        "y": 0.1
       },
       "content": {
        "cell": "940ba81e-5d71-495b-9a34-ead799345780",
        "part": "whole"
       },
       "id": "8bb5dcb2-cdc5-4fa7-9199-d00bc89379e4"
      }
     }
    },
    "61f96558-fb5b-495e-b6b6-55cc155ea4b1": {
     "id": "61f96558-fb5b-495e-b6b6-55cc155ea4b1",
     "prev": "9ed67dae-ffe5-43f5-b712-5d773518121e",
     "regions": {
      "ebf68d2d-fb45-4edb-80f0-5e98c6fb111a": {
       "attrs": {
        "height": 0.8,
        "width": 0.8,
        "x": 0.1,
        "y": 0.1
       },
       "content": {
        "cell": "d6496782-1571-4e57-b7d8-3117b393f4ce",
        "part": "whole"
       },
       "id": "ebf68d2d-fb45-4edb-80f0-5e98c6fb111a"
      }
     }
    },
    "67f0cb37-8327-496f-8a87-5513ac0669c3": {
     "id": "67f0cb37-8327-496f-8a87-5513ac0669c3",
     "prev": "74eef39d-9fee-45e7-8689-cd82e99e9e8d",
     "regions": {
      "496cb9ff-05ec-4864-ba06-26a5873fb1c6": {
       "attrs": {
        "height": 0.8,
        "width": 0.8,
        "x": 0.1,
        "y": 0.1
       },
       "content": {
        "cell": "6f75f10b-f57b-49fb-adfc-4d661a0603ea",
        "part": "whole"
       },
       "id": "496cb9ff-05ec-4864-ba06-26a5873fb1c6"
      }
     }
    },
    "6badb8b9-0dd6-4b8e-bc34-8e3c82fc1cee": {
     "id": "6badb8b9-0dd6-4b8e-bc34-8e3c82fc1cee",
     "prev": "8d00b10d-a50c-4c8c-8aa3-4b96326e7792",
     "regions": {
      "444ae032-498b-4a2d-9f50-60a2d08554d2": {
       "attrs": {
        "height": 0.8,
        "width": 0.8,
        "x": 0.1,
        "y": 0.1
       },
       "content": {
        "cell": "68315766-1224-441d-b885-62c72a52882c",
        "part": "whole"
       },
       "id": "444ae032-498b-4a2d-9f50-60a2d08554d2"
      }
     }
    },
    "6d5a6a97-1746-45ad-9513-4a3f23ec7e98": {
     "id": "6d5a6a97-1746-45ad-9513-4a3f23ec7e98",
     "prev": "c3633bba-09ab-4599-b73d-7fcd01273f1d",
     "regions": {
      "9baf6254-c1c3-4c9c-b0ae-a3f58c01bf2c": {
       "attrs": {
        "height": 0.8,
        "width": 0.8,
        "x": 0.1,
        "y": 0.1
       },
       "content": {
        "cell": "0bf850ae-254a-4b64-bbd5-1392d86f509b",
        "part": "whole"
       },
       "id": "9baf6254-c1c3-4c9c-b0ae-a3f58c01bf2c"
      }
     }
    },
    "715feff7-433a-4fab-b45e-3f155e72fdc2": {
     "id": "715feff7-433a-4fab-b45e-3f155e72fdc2",
     "prev": "f35e4cc8-8031-40f3-94e3-9837cf616ed7",
     "regions": {
      "6d1ac939-1a36-4ade-beea-bab6e2bd20e1": {
       "attrs": {
        "height": 0.8,
        "width": 0.8,
        "x": 0.1,
        "y": 0.1
       },
       "content": {
        "cell": "e701b87b-0ee5-4f0d-810b-e729ebe447e1",
        "part": "whole"
       },
       "id": "6d1ac939-1a36-4ade-beea-bab6e2bd20e1"
      }
     }
    },
    "7253ff3f-ef48-4bc9-a791-53aaf643a229": {
     "id": "7253ff3f-ef48-4bc9-a791-53aaf643a229",
     "prev": "4a821faa-cb0f-4ba3-8813-d0b3a6ae6701",
     "regions": {
      "6399a719-416b-43de-9497-58e87dc91649": {
       "attrs": {
        "height": 0.8,
        "width": 0.8,
        "x": 0.1,
        "y": 0.1
       },
       "content": {
        "cell": "c942b7c2-a4ed-4606-bfca-439b7ebcceb7",
        "part": "whole"
       },
       "id": "6399a719-416b-43de-9497-58e87dc91649"
      }
     }
    },
    "734a7f11-e401-4a14-aae7-363502f971fd": {
     "id": "734a7f11-e401-4a14-aae7-363502f971fd",
     "prev": "8ddf83ba-12b4-4075-bc33-8a18f1f23b6e",
     "regions": {
      "737b3834-376a-46fb-8381-c3cd49fa51a4": {
       "attrs": {
        "height": 0.8,
        "width": 0.8,
        "x": 0.1,
        "y": 0.1
       },
       "content": {
        "cell": "939a2a97-34ed-4c98-b8d5-531b23238fdd",
        "part": "whole"
       },
       "id": "737b3834-376a-46fb-8381-c3cd49fa51a4"
      }
     }
    },
    "74eef39d-9fee-45e7-8689-cd82e99e9e8d": {
     "id": "74eef39d-9fee-45e7-8689-cd82e99e9e8d",
     "prev": "4e10843a-0907-412d-8b00-24303035bb55",
     "regions": {
      "ff1fecca-57e4-42d7-8819-7ba9eee28d9a": {
       "attrs": {
        "height": 0.8,
        "width": 0.8,
        "x": 0.1,
        "y": 0.1
       },
       "content": {
        "cell": "38af8cd8-11ce-49e9-a4bd-1074f6cd656f",
        "part": "whole"
       },
       "id": "ff1fecca-57e4-42d7-8819-7ba9eee28d9a"
      }
     }
    },
    "76491ec3-f70d-4fe0-8aee-b44e5436ea6c": {
     "id": "76491ec3-f70d-4fe0-8aee-b44e5436ea6c",
     "prev": "14bd973f-6471-4e23-9da2-249109ff5366",
     "regions": {
      "5e7fd33d-2a7f-42b6-a3b2-a69485710ba0": {
       "attrs": {
        "height": 0.8,
        "width": 0.8,
        "x": 0.1,
        "y": 0.1
       },
       "content": {
        "cell": "68407458-f6c1-4dcd-9526-e5552abd0a69",
        "part": "whole"
       },
       "id": "5e7fd33d-2a7f-42b6-a3b2-a69485710ba0"
      }
     }
    },
    "79ad71a2-345a-4b0d-92ff-07f1ca4f3778": {
     "id": "79ad71a2-345a-4b0d-92ff-07f1ca4f3778",
     "prev": "61f96558-fb5b-495e-b6b6-55cc155ea4b1",
     "regions": {
      "c0e372e2-f675-419d-959e-4ba924e5431a": {
       "attrs": {
        "height": 0.8,
        "width": 0.8,
        "x": 0.1,
        "y": 0.1
       },
       "content": {
        "cell": "e1b4208c-cec6-4686-8e5c-358ac804aa50",
        "part": "whole"
       },
       "id": "c0e372e2-f675-419d-959e-4ba924e5431a"
      }
     }
    },
    "7ab30eb0-6289-4086-abfd-0e3a1fe2a8ca": {
     "id": "7ab30eb0-6289-4086-abfd-0e3a1fe2a8ca",
     "prev": "9428bcfe-de84-45fe-ab1e-6f8b3556eca6",
     "regions": {
      "e5a54b5b-d030-4410-93c7-3b728114c5ff": {
       "attrs": {
        "height": 0.8,
        "width": 0.8,
        "x": 0.1,
        "y": 0.1
       },
       "content": {
        "cell": "66ceae3f-b11c-4a2e-9027-96e41ad54c65",
        "part": "whole"
       },
       "id": "e5a54b5b-d030-4410-93c7-3b728114c5ff"
      }
     }
    },
    "7d690d4e-3b1d-4603-a03f-862e1c4fda64": {
     "id": "7d690d4e-3b1d-4603-a03f-862e1c4fda64",
     "prev": "7ab30eb0-6289-4086-abfd-0e3a1fe2a8ca",
     "regions": {
      "a0635a2f-90ee-4a99-b6fa-ed37b8a6f829": {
       "attrs": {
        "height": 0.8,
        "width": 0.8,
        "x": 0.1,
        "y": 0.1
       },
       "content": {
        "cell": "72a660f2-b1bf-4ec5-be48-8210746664a4",
        "part": "whole"
       },
       "id": "a0635a2f-90ee-4a99-b6fa-ed37b8a6f829"
      }
     }
    },
    "7f1865ae-6a3c-4a49-b261-fcbea14b1d50": {
     "id": "7f1865ae-6a3c-4a49-b261-fcbea14b1d50",
     "prev": "0fc490ba-4de8-4b2c-a803-904009f634f2",
     "regions": {
      "10c29e52-6e99-4bfb-92b3-0124fcee687d": {
       "attrs": {
        "height": 0.8,
        "width": 0.8,
        "x": 0.1,
        "y": 0.1
       },
       "content": {
        "cell": "02f6e8d9-e33b-4fc2-aef2-5df640c47fd5",
        "part": "whole"
       },
       "id": "10c29e52-6e99-4bfb-92b3-0124fcee687d"
      }
     }
    },
    "80e62075-cee6-44b1-af35-47b38f31e5cb": {
     "id": "80e62075-cee6-44b1-af35-47b38f31e5cb",
     "prev": "7f1865ae-6a3c-4a49-b261-fcbea14b1d50",
     "regions": {
      "3edfee0a-8fba-4c97-a060-f978bfa3eabe": {
       "attrs": {
        "height": 0.8,
        "width": 0.8,
        "x": 0.1,
        "y": 0.1
       },
       "content": {
        "cell": "5097a88f-2b65-412f-8f86-b54ea5ded1d5",
        "part": "whole"
       },
       "id": "3edfee0a-8fba-4c97-a060-f978bfa3eabe"
      }
     }
    },
    "829e687e-0eb4-4475-abe4-d45f62009a85": {
     "id": "829e687e-0eb4-4475-abe4-d45f62009a85",
     "prev": "7253ff3f-ef48-4bc9-a791-53aaf643a229",
     "regions": {
      "d914bc16-0891-4a7c-b65d-b01311e2366c": {
       "attrs": {
        "height": 0.8,
        "width": 0.8,
        "x": 0.1,
        "y": 0.1
       },
       "content": {
        "cell": "d6552291-81f0-4539-8585-22fe850aa4bd",
        "part": "whole"
       },
       "id": "d914bc16-0891-4a7c-b65d-b01311e2366c"
      }
     }
    },
    "831ea5db-96f7-4596-a3f8-b581e2a927ed": {
     "id": "831ea5db-96f7-4596-a3f8-b581e2a927ed",
     "prev": "829e687e-0eb4-4475-abe4-d45f62009a85",
     "regions": {
      "01d40907-4689-47fd-9207-8e52f670de5d": {
       "attrs": {
        "height": 0.8,
        "width": 0.8,
        "x": 0.1,
        "y": 0.1
       },
       "content": {
        "cell": "36ca32e6-deab-4364-a4ee-0c886485a144",
        "part": "whole"
       },
       "id": "01d40907-4689-47fd-9207-8e52f670de5d"
      }
     }
    },
    "832e09b1-4e8e-4628-9c88-533b5a442864": {
     "id": "832e09b1-4e8e-4628-9c88-533b5a442864",
     "prev": "c2ba50d7-812a-479a-bdb2-30fcef94ea14",
     "regions": {
      "77c794f3-f278-4342-b131-20ef6d52f2cd": {
       "attrs": {
        "height": 0.8,
        "width": 0.8,
        "x": 0.1,
        "y": 0.1
       },
       "content": {
        "cell": "1e4d2e13-7e86-4da2-a6a3-babb32ab0442",
        "part": "whole"
       },
       "id": "77c794f3-f278-4342-b131-20ef6d52f2cd"
      }
     }
    },
    "8425370d-15a1-4f25-b9da-e84ad1287d1e": {
     "id": "8425370d-15a1-4f25-b9da-e84ad1287d1e",
     "prev": "0fb1f28f-c4a0-4263-a652-ae7fa9329642",
     "regions": {
      "34324406-81a5-4498-8dc8-8ae23e144db7": {
       "attrs": {
        "height": 0.8,
        "width": 0.8,
        "x": 0.1,
        "y": 0.1
       },
       "content": {
        "cell": "a1b28411-294a-4744-b298-9e29446f962d",
        "part": "whole"
       },
       "id": "34324406-81a5-4498-8dc8-8ae23e144db7"
      }
     }
    },
    "849e860c-fff6-4178-8198-205d7b70e8a1": {
     "id": "849e860c-fff6-4178-8198-205d7b70e8a1",
     "prev": "f1de3c11-eb9a-4438-9bfb-4ce5d295df33",
     "regions": {
      "be9fd316-e95e-4c75-a312-1951d9f717f5": {
       "attrs": {
        "height": 0.8,
        "width": 0.8,
        "x": 0.1,
        "y": 0.1
       },
       "content": {
        "cell": "e1e5eac7-1019-4840-90ce-132779c6ded6",
        "part": "whole"
       },
       "id": "be9fd316-e95e-4c75-a312-1951d9f717f5"
      }
     }
    },
    "84ff8974-da4a-420a-94c7-8623bd15e41e": {
     "id": "84ff8974-da4a-420a-94c7-8623bd15e41e",
     "prev": "1739ad60-442f-40f8-abe3-89b2763deede",
     "regions": {
      "53a98328-152a-47a6-9d0f-e4bf3f6f2b66": {
       "attrs": {
        "height": 0.8,
        "width": 0.8,
        "x": 0.1,
        "y": 0.1
       },
       "content": {
        "cell": "7776cae6-1a7c-4224-ab8a-7781d48eced6",
        "part": "whole"
       },
       "id": "53a98328-152a-47a6-9d0f-e4bf3f6f2b66"
      }
     }
    },
    "872a44a1-f1da-4662-9684-ba8c583603a3": {
     "id": "872a44a1-f1da-4662-9684-ba8c583603a3",
     "prev": "6d5a6a97-1746-45ad-9513-4a3f23ec7e98",
     "regions": {
      "3deef043-ef98-404a-8d93-44b7d0ada8ef": {
       "attrs": {
        "height": 0.8,
        "width": 0.8,
        "x": 0.1,
        "y": 0.1
       },
       "content": {
        "cell": "2a0a84bf-8fab-4d2d-9244-062067417f2b",
        "part": "whole"
       },
       "id": "3deef043-ef98-404a-8d93-44b7d0ada8ef"
      }
     }
    },
    "8d00b10d-a50c-4c8c-8aa3-4b96326e7792": {
     "id": "8d00b10d-a50c-4c8c-8aa3-4b96326e7792",
     "prev": "256008c6-6298-4d0c-a5c9-f13c399153e3",
     "regions": {
      "42152468-c773-482b-ba8f-9351ff4aeda9": {
       "attrs": {
        "height": 0.8,
        "width": 0.8,
        "x": 0.1,
        "y": 0.1
       },
       "content": {
        "cell": "b395009f-af31-4049-9e45-5fe48c2fc3d3",
        "part": "whole"
       },
       "id": "42152468-c773-482b-ba8f-9351ff4aeda9"
      }
     }
    },
    "8ddf83ba-12b4-4075-bc33-8a18f1f23b6e": {
     "id": "8ddf83ba-12b4-4075-bc33-8a18f1f23b6e",
     "prev": "9f7bedbf-ce40-4284-9234-a5753be105a5",
     "regions": {
      "37d4a9fc-e4e4-417c-9310-0fb8a11a9622": {
       "attrs": {
        "height": 0.8,
        "width": 0.8,
        "x": 0.1,
        "y": 0.1
       },
       "content": {
        "cell": "a0935dd7-c0dc-44a2-acd8-2b47bf76eb6a",
        "part": "whole"
       },
       "id": "37d4a9fc-e4e4-417c-9310-0fb8a11a9622"
      }
     }
    },
    "90922d04-dcac-4daf-beeb-dd48714476eb": {
     "id": "90922d04-dcac-4daf-beeb-dd48714476eb",
     "prev": "495742f6-5219-4bcc-bd71-a36aced67599",
     "regions": {
      "a263b2c2-1a9b-4ce8-b0fb-ca8a6d4df153": {
       "attrs": {
        "height": 0.8,
        "width": 0.8,
        "x": 0.1,
        "y": 0.1
       },
       "content": {
        "cell": "ac2c34cf-7a96-4ad3-98ee-e59588c303f1",
        "part": "whole"
       },
       "id": "a263b2c2-1a9b-4ce8-b0fb-ca8a6d4df153"
      }
     }
    },
    "919bd687-87ac-4db6-83a2-8345ecc62bbf": {
     "id": "919bd687-87ac-4db6-83a2-8345ecc62bbf",
     "prev": "adf78c27-b7e3-47ac-943b-6fca884fe0ad",
     "regions": {
      "7b4846d0-d657-432e-b6f1-d7fb80ea3672": {
       "attrs": {
        "height": 0.8,
        "width": 0.8,
        "x": 0.1,
        "y": 0.1
       },
       "content": {
        "cell": "3edc2a1d-77cc-46d1-9192-0e184c3a7e6d",
        "part": "whole"
       },
       "id": "7b4846d0-d657-432e-b6f1-d7fb80ea3672"
      }
     }
    },
    "9428bcfe-de84-45fe-ab1e-6f8b3556eca6": {
     "id": "9428bcfe-de84-45fe-ab1e-6f8b3556eca6",
     "prev": "513fac53-c8eb-4933-bd7c-b7185f15cb7e",
     "regions": {
      "a1163ed1-099c-4bf6-9a2e-fad112b02fae": {
       "attrs": {
        "height": 0.8,
        "width": 0.8,
        "x": 0.1,
        "y": 0.1
       },
       "content": {
        "cell": "ae75e75b-9188-4869-9d13-2b32a54eb198",
        "part": "whole"
       },
       "id": "a1163ed1-099c-4bf6-9a2e-fad112b02fae"
      }
     }
    },
    "9925f3b0-6318-4c39-a5a2-b12f16ec8c0e": {
     "id": "9925f3b0-6318-4c39-a5a2-b12f16ec8c0e",
     "prev": "30d19d04-6869-44a2-933c-9fe7d8fb47e5",
     "regions": {
      "ac217762-53e2-46e0-89f3-6115fa06783d": {
       "attrs": {
        "height": 0.8,
        "width": 0.8,
        "x": 0.1,
        "y": 0.1
       },
       "content": {
        "cell": "ceef3550-6385-4ffa-baae-2389aba516bb",
        "part": "whole"
       },
       "id": "ac217762-53e2-46e0-89f3-6115fa06783d"
      }
     }
    },
    "9ed67dae-ffe5-43f5-b712-5d773518121e": {
     "id": "9ed67dae-ffe5-43f5-b712-5d773518121e",
     "prev": "28a8a521-2777-47fd-b376-455aa39a0c00",
     "regions": {
      "093baad4-ec7b-4360-96cf-8f9beb958b65": {
       "attrs": {
        "height": 0.8,
        "width": 0.8,
        "x": 0.1,
        "y": 0.1
       },
       "content": {
        "cell": "b0e0ebac-4b5a-4bae-a502-27598649983e",
        "part": "whole"
       },
       "id": "093baad4-ec7b-4360-96cf-8f9beb958b65"
      }
     }
    },
    "9f7bedbf-ce40-4284-9234-a5753be105a5": {
     "id": "9f7bedbf-ce40-4284-9234-a5753be105a5",
     "prev": "faf93395-f69f-4f1d-889a-59a8352b50f5",
     "regions": {
      "4004d459-bf80-4a21-bdd1-9d1968d0f776": {
       "attrs": {
        "height": 0.8,
        "width": 0.8,
        "x": 0.1,
        "y": 0.1
       },
       "content": {
        "cell": "7efdb2b9-5e8a-4908-a9db-bfa70e14c058",
        "part": "whole"
       },
       "id": "4004d459-bf80-4a21-bdd1-9d1968d0f776"
      }
     }
    },
    "a1ad8761-2efa-448f-8386-ccfb706adc1d": {
     "id": "a1ad8761-2efa-448f-8386-ccfb706adc1d",
     "prev": "f70fa2b9-1fdb-46d1-a324-939b2a7b2691",
     "regions": {
      "595fc9e1-d2f9-4f54-89f9-4dcaf2011962": {
       "attrs": {
        "height": 0.8,
        "width": 0.8,
        "x": 0.1,
        "y": 0.1
       },
       "content": {
        "cell": "43337530-59fb-40a2-bdb0-1297a13a34c8",
        "part": "whole"
       },
       "id": "595fc9e1-d2f9-4f54-89f9-4dcaf2011962"
      }
     }
    },
    "a814cbfc-f5b5-45bc-8a5e-515356f56deb": {
     "id": "a814cbfc-f5b5-45bc-8a5e-515356f56deb",
     "prev": "90922d04-dcac-4daf-beeb-dd48714476eb",
     "regions": {
      "f0fc57a0-3750-47ba-833c-93e1fd627f1a": {
       "attrs": {
        "height": 0.8,
        "width": 0.8,
        "x": 0.1,
        "y": 0.1
       },
       "content": {
        "cell": "fba66a6a-66a9-424c-bc45-8b07243e8cd9",
        "part": "whole"
       },
       "id": "f0fc57a0-3750-47ba-833c-93e1fd627f1a"
      }
     }
    },
    "a9c7a59c-07a5-4c53-9a59-4b5ecfb837ae": {
     "id": "a9c7a59c-07a5-4c53-9a59-4b5ecfb837ae",
     "prev": "b43fbad3-48f2-4cfb-bc11-f1dec79ef42c",
     "regions": {
      "78356fb2-6160-4d47-8541-1148d29107cc": {
       "attrs": {
        "height": 0.8,
        "width": 0.8,
        "x": 0.1,
        "y": 0.1
       },
       "content": {
        "cell": "999d39db-69fe-4d7c-998f-398dae073a52",
        "part": "whole"
       },
       "id": "78356fb2-6160-4d47-8541-1148d29107cc"
      }
     }
    },
    "aa88a4cd-8f21-4eaa-b361-c908ad632906": {
     "id": "aa88a4cd-8f21-4eaa-b361-c908ad632906",
     "prev": "bfa066f7-6c63-4d58-9202-c3421431600a",
     "regions": {
      "e922c4be-d4ca-46f1-ad4c-899095dad3cf": {
       "attrs": {
        "height": 0.8,
        "width": 0.8,
        "x": 0.1,
        "y": 0.1
       },
       "content": {
        "cell": "22b34853-65e0-44ff-97e7-a35289c0f0bb",
        "part": "whole"
       },
       "id": "e922c4be-d4ca-46f1-ad4c-899095dad3cf"
      }
     }
    },
    "ab673a77-f1bc-4e64-aef5-2853ad9c4064": {
     "id": "ab673a77-f1bc-4e64-aef5-2853ad9c4064",
     "prev": "0cda1ca3-b50b-4798-9344-fd4b3e8f7be7",
     "regions": {
      "dcc3159a-b5db-443c-a44f-2fa7f90b9967": {
       "attrs": {
        "height": 0.8,
        "width": 0.8,
        "x": 0.1,
        "y": 0.1
       },
       "content": {
        "cell": "36a4e7c9-8b07-463e-b4f6-0ad1914dc27e",
        "part": "whole"
       },
       "id": "dcc3159a-b5db-443c-a44f-2fa7f90b9967"
      }
     }
    },
    "adb88f99-c065-4e61-be93-fc2c3f1eb800": {
     "id": "adb88f99-c065-4e61-be93-fc2c3f1eb800",
     "prev": "0d5f4ac8-6c89-41d4-a4a7-d928bb5377c9",
     "regions": {
      "98c103dd-3128-42fa-b434-acbff5e0d56a": {
       "attrs": {
        "height": 0.8,
        "width": 0.8,
        "x": 0.1,
        "y": 0.1
       },
       "content": {
        "cell": "39b16f21-29c4-470d-aabc-eb3cc2e2bfc7",
        "part": "whole"
       },
       "id": "98c103dd-3128-42fa-b434-acbff5e0d56a"
      }
     }
    },
    "adf78c27-b7e3-47ac-943b-6fca884fe0ad": {
     "id": "adf78c27-b7e3-47ac-943b-6fca884fe0ad",
     "prev": "2497cbf5-7d66-4c44-ac3d-2f3f81b22e0e",
     "regions": {
      "ee7633d2-2586-4ef9-9c39-582899b9ad23": {
       "attrs": {
        "height": 0.8,
        "width": 0.8,
        "x": 0.1,
        "y": 0.1
       },
       "content": {
        "cell": "91b0e1ae-6391-4621-b5a0-00ab2d8cfa98",
        "part": "whole"
       },
       "id": "ee7633d2-2586-4ef9-9c39-582899b9ad23"
      }
     }
    },
    "aec177c7-97b5-4a99-a26d-c05abe673669": {
     "id": "aec177c7-97b5-4a99-a26d-c05abe673669",
     "prev": "5ed15d37-bcef-461a-8161-f814d2a57a19",
     "regions": {
      "7ee346d6-45b4-4a0a-9e0b-93435eae8d3f": {
       "attrs": {
        "height": 0.8,
        "width": 0.8,
        "x": 0.1,
        "y": 0.1
       },
       "content": {
        "cell": "8797c61f-33df-4ecc-a7cd-26b5219bdf23",
        "part": "whole"
       },
       "id": "7ee346d6-45b4-4a0a-9e0b-93435eae8d3f"
      }
     }
    },
    "b43fbad3-48f2-4cfb-bc11-f1dec79ef42c": {
     "id": "b43fbad3-48f2-4cfb-bc11-f1dec79ef42c",
     "prev": "35a7448d-9e3d-4a37-941a-9d1679acef2d",
     "regions": {
      "79d7d3ba-62b8-468a-8258-1387887a60fd": {
       "attrs": {
        "height": 0.8,
        "width": 0.8,
        "x": 0.1,
        "y": 0.1
       },
       "content": {
        "cell": "c46d1bf2-d67f-4869-bde6-ddc855dd1632",
        "part": "whole"
       },
       "id": "79d7d3ba-62b8-468a-8258-1387887a60fd"
      }
     }
    },
    "b518241b-c800-4c64-935d-5ba9eff67002": {
     "id": "b518241b-c800-4c64-935d-5ba9eff67002",
     "prev": "6badb8b9-0dd6-4b8e-bc34-8e3c82fc1cee",
     "regions": {
      "a7934bb0-52ef-422f-9ec6-56b936512361": {
       "attrs": {
        "height": 0.8,
        "width": 0.8,
        "x": 0.1,
        "y": 0.1
       },
       "content": {
        "cell": "a75bc4c4-6ec7-44ee-a0c5-f8dd00e01b26",
        "part": "whole"
       },
       "id": "a7934bb0-52ef-422f-9ec6-56b936512361"
      }
     }
    },
    "be5f20c8-8ae9-4334-a299-3b31edc0a194": {
     "id": "be5f20c8-8ae9-4334-a299-3b31edc0a194",
     "prev": "5db8903f-903c-457d-be24-131ae6e87d14",
     "regions": {
      "2bce3ab9-8d75-44f1-8190-747721340a58": {
       "attrs": {
        "height": 0.8,
        "width": 0.8,
        "x": 0.1,
        "y": 0.1
       },
       "content": {
        "cell": "bdb705b5-c152-4d2e-b4df-66fe75eaad5a",
        "part": "whole"
       },
       "id": "2bce3ab9-8d75-44f1-8190-747721340a58"
      }
     }
    },
    "bfa066f7-6c63-4d58-9202-c3421431600a": {
     "id": "bfa066f7-6c63-4d58-9202-c3421431600a",
     "prev": "23d5c33a-c24c-4b29-8ac6-2caba92a1281",
     "regions": {
      "9594c656-9677-47e1-9744-014165c6be33": {
       "attrs": {
        "height": 0.8,
        "width": 0.8,
        "x": 0.1,
        "y": 0.1
       },
       "content": {
        "cell": "99a15fe4-43a4-4a4b-86d5-630857aa5d30",
        "part": "whole"
       },
       "id": "9594c656-9677-47e1-9744-014165c6be33"
      }
     }
    },
    "c003f7be-b32e-4ee0-a144-e55feca49497": {
     "id": "c003f7be-b32e-4ee0-a144-e55feca49497",
     "prev": "715feff7-433a-4fab-b45e-3f155e72fdc2",
     "regions": {
      "04139fbb-f73c-483f-b8ce-fd44483073ea": {
       "attrs": {
        "height": 0.8,
        "width": 0.8,
        "x": 0.1,
        "y": 0.1
       },
       "content": {
        "cell": "24f4c283-e4fd-4679-824f-9e14ff993f8e",
        "part": "whole"
       },
       "id": "04139fbb-f73c-483f-b8ce-fd44483073ea"
      }
     }
    },
    "c2ba50d7-812a-479a-bdb2-30fcef94ea14": {
     "id": "c2ba50d7-812a-479a-bdb2-30fcef94ea14",
     "prev": "849e860c-fff6-4178-8198-205d7b70e8a1",
     "regions": {
      "cede486b-4371-4655-827e-4014dfee3e33": {
       "attrs": {
        "height": 0.8,
        "width": 0.8,
        "x": 0.1,
        "y": 0.1
       },
       "content": {
        "cell": "a3b3a5b6-38d6-40b5-a2ae-a16cde85a11b",
        "part": "whole"
       },
       "id": "cede486b-4371-4655-827e-4014dfee3e33"
      }
     }
    },
    "c317c9cc-20bb-4727-8290-d0fb7d05a0f8": {
     "id": "c317c9cc-20bb-4727-8290-d0fb7d05a0f8",
     "prev": "d3224e58-0fe0-44d1-9958-b4d3d95a1925",
     "regions": {
      "dd028ef7-0626-4592-a7e1-747395210503": {
       "attrs": {
        "height": 0.8,
        "width": 0.8,
        "x": 0.1,
        "y": 0.1
       },
       "content": {
        "cell": "1e9b5558-c1c7-48b6-a531-dc36630ea7e7",
        "part": "whole"
       },
       "id": "dd028ef7-0626-4592-a7e1-747395210503"
      }
     }
    },
    "c3633bba-09ab-4599-b73d-7fcd01273f1d": {
     "id": "c3633bba-09ab-4599-b73d-7fcd01273f1d",
     "prev": "80e62075-cee6-44b1-af35-47b38f31e5cb",
     "regions": {
      "35a76c7c-1a5a-45c2-b910-a8120afd67af": {
       "attrs": {
        "height": 0.8,
        "width": 0.8,
        "x": 0.1,
        "y": 0.1
       },
       "content": {
        "cell": "74c073e7-404f-4144-900d-bda687b55298",
        "part": "whole"
       },
       "id": "35a76c7c-1a5a-45c2-b910-a8120afd67af"
      }
     }
    },
    "c829ee87-181d-4d2e-a0e8-99af875ee94d": {
     "id": "c829ee87-181d-4d2e-a0e8-99af875ee94d",
     "prev": "f0bbb984-5d3f-41f0-bafb-bf878d65b1da",
     "regions": {
      "80823677-586c-420f-b20b-b5aef5a59495": {
       "attrs": {
        "height": 0.8,
        "width": 0.8,
        "x": 0.1,
        "y": 0.1
       },
       "content": {
        "cell": "6e9654be-2599-4e66-bc4f-19ba8dd74e23",
        "part": "whole"
       },
       "id": "80823677-586c-420f-b20b-b5aef5a59495"
      }
     }
    },
    "d05d8dd7-470e-4e23-bab7-ebc51ebbf189": {
     "id": "d05d8dd7-470e-4e23-bab7-ebc51ebbf189",
     "prev": "872a44a1-f1da-4662-9684-ba8c583603a3",
     "regions": {
      "65e9de54-c729-4f0a-a4dc-99c94da0c614": {
       "attrs": {
        "height": 0.8,
        "width": 0.8,
        "x": 0.1,
        "y": 0.1
       },
       "content": {
        "cell": "afa70694-4f95-4678-ba85-f78a5156b7b7",
        "part": "whole"
       },
       "id": "65e9de54-c729-4f0a-a4dc-99c94da0c614"
      }
     }
    },
    "d3224e58-0fe0-44d1-9958-b4d3d95a1925": {
     "id": "d3224e58-0fe0-44d1-9958-b4d3d95a1925",
     "prev": "1f428a4b-e6bf-44f4-82a8-000df44d6bba",
     "regions": {
      "dc4e185a-658b-4934-9898-52eb0b52966d": {
       "attrs": {
        "height": 0.8,
        "width": 0.8,
        "x": 0.1,
        "y": 0.1
       },
       "content": {
        "cell": "0ca949aa-3bfe-411c-8916-2c895daf117d",
        "part": "whole"
       },
       "id": "dc4e185a-658b-4934-9898-52eb0b52966d"
      }
     }
    },
    "d3abd4fd-5595-426f-a2fe-dc2235b702b0": {
     "id": "d3abd4fd-5595-426f-a2fe-dc2235b702b0",
     "prev": "dd0daac8-2371-4616-96dd-c705738a6869",
     "regions": {
      "a02f719b-c066-4ff6-adae-fb7b58c79c55": {
       "attrs": {
        "height": 0.8,
        "width": 0.8,
        "x": 0.1,
        "y": 0.1
       },
       "content": {
        "cell": "a4835d84-bc3b-4541-a2a2-b9576f014ac9",
        "part": "whole"
       },
       "id": "a02f719b-c066-4ff6-adae-fb7b58c79c55"
      }
     }
    },
    "dc58b355-4228-40f4-a2ae-f16eec24a9f3": {
     "id": "dc58b355-4228-40f4-a2ae-f16eec24a9f3",
     "prev": "1c86f480-a955-4d4b-86da-9b7807bd9fbf",
     "regions": {
      "083e4052-6d6a-407c-8075-617bf7185edf": {
       "attrs": {
        "height": 0.8,
        "width": 0.8,
        "x": 0.1,
        "y": 0.1
       },
       "content": {
        "cell": "12c2eea0-46ec-4005-a006-d0e469a1a2dc",
        "part": "whole"
       },
       "id": "083e4052-6d6a-407c-8075-617bf7185edf"
      }
     }
    },
    "dd0daac8-2371-4616-96dd-c705738a6869": {
     "id": "dd0daac8-2371-4616-96dd-c705738a6869",
     "prev": "5fd327a5-a050-40b3-beb3-0eeeb86f2e78",
     "regions": {
      "c6559eda-12a6-4e8a-ad2f-275374c5a977": {
       "attrs": {
        "height": 0.8,
        "width": 0.8,
        "x": 0.1,
        "y": 0.1
       },
       "content": {
        "cell": "ba8b86c1-6ece-4b66-993a-371efa9522cc",
        "part": "whole"
       },
       "id": "c6559eda-12a6-4e8a-ad2f-275374c5a977"
      }
     }
    },
    "e1ec84c6-3570-46b9-aaef-1df21fec8c86": {
     "id": "e1ec84c6-3570-46b9-aaef-1df21fec8c86",
     "prev": "a1ad8761-2efa-448f-8386-ccfb706adc1d",
     "regions": {
      "9ff4a832-117d-4d39-b2ac-87e0b9820775": {
       "attrs": {
        "height": 0.8,
        "width": 0.8,
        "x": 0.1,
        "y": 0.1
       },
       "content": {
        "cell": "d218c5f9-95e9-4bf8-bba5-9f344bcf2a05",
        "part": "whole"
       },
       "id": "9ff4a832-117d-4d39-b2ac-87e0b9820775"
      }
     }
    },
    "e9645e97-076d-49a2-ac50-60df72e22059": {
     "id": "e9645e97-076d-49a2-ac50-60df72e22059",
     "prev": "38a629d5-1e3a-4e8a-9a28-c6f4a948e9b1",
     "regions": {
      "c96f948f-016c-4656-8eb5-b8fcc957892f": {
       "attrs": {
        "height": 0.8,
        "width": 0.8,
        "x": 0.1,
        "y": 0.1
       },
       "content": {
        "cell": "ab7daebe-ccf9-4a78-a370-aef26630012d",
        "part": "whole"
       },
       "id": "c96f948f-016c-4656-8eb5-b8fcc957892f"
      }
     }
    },
    "ebd3a3d1-f8d1-4480-8b59-b2145a9993b2": {
     "id": "ebd3a3d1-f8d1-4480-8b59-b2145a9993b2",
     "prev": "c317c9cc-20bb-4727-8290-d0fb7d05a0f8",
     "regions": {
      "c0538426-fccd-4bb9-b62d-6a224e6b0da5": {
       "attrs": {
        "height": 0.8,
        "width": 0.8,
        "x": 0.1,
        "y": 0.1
       },
       "content": {
        "cell": "49e5215c-5aa6-4472-b8aa-9898813f5789",
        "part": "whole"
       },
       "id": "c0538426-fccd-4bb9-b62d-6a224e6b0da5"
      }
     }
    },
    "edc897d5-8c1f-4304-b9bc-06c0eabe3de3": {
     "id": "edc897d5-8c1f-4304-b9bc-06c0eabe3de3",
     "prev": "dc58b355-4228-40f4-a2ae-f16eec24a9f3",
     "regions": {
      "b5dd66cc-6c3e-4788-aa3a-34547dea8f50": {
       "attrs": {
        "height": 0.8,
        "width": 0.8,
        "x": 0.1,
        "y": 0.1
       },
       "content": {
        "cell": "5fa15e50-acad-424b-a695-bc700ea716e6",
        "part": "whole"
       },
       "id": "b5dd66cc-6c3e-4788-aa3a-34547dea8f50"
      }
     }
    },
    "eebd33cb-9a34-4744-9296-591db296e8b2": {
     "id": "eebd33cb-9a34-4744-9296-591db296e8b2",
     "prev": "e1ec84c6-3570-46b9-aaef-1df21fec8c86",
     "regions": {
      "1b91175b-8913-488a-9259-50fc0f04a0d1": {
       "attrs": {
        "height": 0.8,
        "width": 0.8,
        "x": 0.1,
        "y": 0.1
       },
       "content": {
        "cell": "b51de666-a7ba-478a-abce-fee6ee65fc4c",
        "part": "whole"
       },
       "id": "1b91175b-8913-488a-9259-50fc0f04a0d1"
      }
     }
    },
    "eef0d87f-4f03-45b9-ba0f-cde00f646fb5": {
     "id": "eef0d87f-4f03-45b9-ba0f-cde00f646fb5",
     "prev": "4319f966-748c-4bdb-87db-82fccd9fbab8",
     "regions": {
      "53d65ee0-bc12-4f58-8f75-fc90f17dfee6": {
       "attrs": {
        "height": 0.8,
        "width": 0.8,
        "x": 0.1,
        "y": 0.1
       },
       "content": {
        "cell": "c0bdd3b9-2cc6-48fa-9c1d-87ebe955a834",
        "part": "whole"
       },
       "id": "53d65ee0-bc12-4f58-8f75-fc90f17dfee6"
      }
     }
    },
    "f0bbb984-5d3f-41f0-bafb-bf878d65b1da": {
     "id": "f0bbb984-5d3f-41f0-bafb-bf878d65b1da",
     "prev": null,
     "regions": {
      "ac99c2ef-d731-4e7a-a29e-be158e56004e": {
       "attrs": {
        "height": 0.8,
        "width": 0.8,
        "x": 0.1,
        "y": 0.1
       },
       "content": {
        "cell": "1ad9e6fc-734a-4739-8c02-12ae43ed107d",
        "part": "whole"
       },
       "id": "ac99c2ef-d731-4e7a-a29e-be158e56004e"
      }
     }
    },
    "f1de3c11-eb9a-4438-9bfb-4ce5d295df33": {
     "id": "f1de3c11-eb9a-4438-9bfb-4ce5d295df33",
     "prev": "734a7f11-e401-4a14-aae7-363502f971fd",
     "regions": {
      "5ba6e0d7-052e-4e09-b631-fa5844599dee": {
       "attrs": {
        "height": 0.8,
        "width": 0.8,
        "x": 0.1,
        "y": 0.1
       },
       "content": {
        "cell": "1b74814a-f10d-48f7-9691-b6d28c3be21f",
        "part": "whole"
       },
       "id": "5ba6e0d7-052e-4e09-b631-fa5844599dee"
      }
     }
    },
    "f1e61699-d8cb-42b1-a5b6-b3f50e59efa3": {
     "id": "f1e61699-d8cb-42b1-a5b6-b3f50e59efa3",
     "prev": "67f0cb37-8327-496f-8a87-5513ac0669c3",
     "regions": {
      "7873578a-c20b-4aa0-ac14-1df80b3d223e": {
       "attrs": {
        "height": 0.8,
        "width": 0.8,
        "x": 0.1,
        "y": 0.1
       },
       "content": {
        "cell": "da25a949-23cb-4d4b-a021-96ffbf1b4ae3",
        "part": "whole"
       },
       "id": "7873578a-c20b-4aa0-ac14-1df80b3d223e"
      }
     }
    },
    "f35e4cc8-8031-40f3-94e3-9837cf616ed7": {
     "id": "f35e4cc8-8031-40f3-94e3-9837cf616ed7",
     "prev": "832e09b1-4e8e-4628-9c88-533b5a442864",
     "regions": {
      "4ad37976-ca37-4021-8899-0110f2b7fe1b": {
       "attrs": {
        "height": 0.8,
        "width": 0.8,
        "x": 0.1,
        "y": 0.1
       },
       "content": {
        "cell": "ce5d926b-fa97-413e-854a-9a4e91763d65",
        "part": "whole"
       },
       "id": "4ad37976-ca37-4021-8899-0110f2b7fe1b"
      }
     }
    },
    "f70fa2b9-1fdb-46d1-a324-939b2a7b2691": {
     "id": "f70fa2b9-1fdb-46d1-a324-939b2a7b2691",
     "prev": "adb88f99-c065-4e61-be93-fc2c3f1eb800",
     "regions": {
      "3977ca17-b42c-4394-8c09-0183e8e3ec86": {
       "attrs": {
        "height": 0.8,
        "width": 0.8,
        "x": 0.1,
        "y": 0.1
       },
       "content": {
        "cell": "a14db88f-c823-40aa-b3cc-1e81e194178f",
        "part": "whole"
       },
       "id": "3977ca17-b42c-4394-8c09-0183e8e3ec86"
      }
     }
    },
    "faf93395-f69f-4f1d-889a-59a8352b50f5": {
     "id": "faf93395-f69f-4f1d-889a-59a8352b50f5",
     "prev": "4f86b6de-3ae1-4cc9-bfb5-675edce26342",
     "regions": {
      "2dd8c9b1-34b1-41f2-83e7-b78c31ebcb2a": {
       "attrs": {
        "height": 0.8,
        "width": 0.8,
        "x": 0.1,
        "y": 0.1
       },
       "content": {
        "cell": "a39c3b16-28a6-4859-a3a9-5cb06ba5291e",
        "part": "whole"
       },
       "id": "2dd8c9b1-34b1-41f2-83e7-b78c31ebcb2a"
      }
     }
    }
   },
   "themes": {
    "default": "0755893a-54dc-423b-bdb4-fed3b080cde0",
    "theme": {
     "0755893a-54dc-423b-bdb4-fed3b080cde0": {
      "backgrounds": {
       "dc7afa04-bf90-40b1-82a5-726e3cff5267": {
        "background-color": "31af15d2-7e15-44c5-ab5e-e04b16a89eff",
        "id": "dc7afa04-bf90-40b1-82a5-726e3cff5267"
       }
      },
      "id": "0755893a-54dc-423b-bdb4-fed3b080cde0",
      "palette": {
       "19cc588f-0593-49c9-9f4b-e4d7cc113b1c": {
        "id": "19cc588f-0593-49c9-9f4b-e4d7cc113b1c",
        "rgb": [
         252,
         252,
         252
        ]
       },
       "31af15d2-7e15-44c5-ab5e-e04b16a89eff": {
        "id": "31af15d2-7e15-44c5-ab5e-e04b16a89eff",
        "rgb": [
         68,
         68,
         68
        ]
       },
       "50f92c45-a630-455b-aec3-788680ec7410": {
        "id": "50f92c45-a630-455b-aec3-788680ec7410",
        "rgb": [
         197,
         226,
         245
        ]
       },
       "c5cc3653-2ee1-402a-aba2-7caae1da4f6c": {
        "id": "c5cc3653-2ee1-402a-aba2-7caae1da4f6c",
        "rgb": [
         43,
         126,
         184
        ]
       },
       "efa7f048-9acb-414c-8b04-a26811511a21": {
        "id": "efa7f048-9acb-414c-8b04-a26811511a21",
        "rgb": [
         25.118061674008803,
         73.60176211453744,
         107.4819383259912
        ]
       }
      },
      "rules": {
       "a": {
        "color": "19cc588f-0593-49c9-9f4b-e4d7cc113b1c"
       },
       "blockquote": {
        "color": "50f92c45-a630-455b-aec3-788680ec7410",
        "font-size": 3
       },
       "code": {
        "font-family": "Anonymous Pro"
       },
       "h1": {
        "color": "19cc588f-0593-49c9-9f4b-e4d7cc113b1c",
        "font-family": "Merriweather",
        "font-size": 8
       },
       "h2": {
        "color": "19cc588f-0593-49c9-9f4b-e4d7cc113b1c",
        "font-family": "Merriweather",
        "font-size": 6
       },
       "h3": {
        "color": "50f92c45-a630-455b-aec3-788680ec7410",
        "font-family": "Lato",
        "font-size": 5.5
       },
       "h4": {
        "color": "c5cc3653-2ee1-402a-aba2-7caae1da4f6c",
        "font-family": "Lato",
        "font-size": 5
       },
       "h5": {
        "font-family": "Lato"
       },
       "h6": {
        "font-family": "Lato"
       },
       "h7": {
        "font-family": "Lato"
       },
       "li": {
        "color": "50f92c45-a630-455b-aec3-788680ec7410",
        "font-size": 3.25
       },
       "pre": {
        "font-family": "Anonymous Pro",
        "font-size": 4
       }
      },
      "text-base": {
       "color": "19cc588f-0593-49c9-9f4b-e4d7cc113b1c",
       "font-family": "Lato",
       "font-size": 4
      }
     }
    }
   }
  },
  "widgets": {
   "application/vnd.jupyter.widget-state+json": {
    "state": {},
    "version_major": 2,
    "version_minor": 0
   }
  }
 },
 "nbformat": 4,
 "nbformat_minor": 2
}
